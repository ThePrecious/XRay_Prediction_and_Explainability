{
 "cells": [
  {
   "cell_type": "code",
   "execution_count": null,
   "id": "7ab83fc1",
   "metadata": {
    "scrolled": false
   },
   "outputs": [],
   "source": [
    "import gradio as gr\n",
    "import torchxrayvision as xrv\n",
    "import skimage, torch, torchvision\n",
    "import requests"
   ]
  },
  {
   "cell_type": "code",
   "execution_count": null,
   "id": "806e21e0",
   "metadata": {},
   "outputs": [],
   "source": [
    "def predict(im,model_choice):\n",
    "    \n",
    "    # Prepare the image:\n",
    "    img = skimage.io.imread(im)\n",
    "    img = xrv.datasets.normalize(img, 255) # convert 8-bit image to [-1024, 1024] range\n",
    "    img = img.mean(2)[None, ...] # Make single color channel\n",
    "    transform = torchvision.transforms.Compose([xrv.datasets.XRayCenterCrop(),xrv.datasets.XRayResizer(224)])\n",
    "    img = transform(img)\n",
    "    img = torch.from_numpy(img)\n",
    "    \n",
    "    model = xrv.models.DenseNet(weights=model_choice)\n",
    "\n",
    "    outputs = model(img[None,...]) # or outputs = model.features(img[None,...]) \n",
    "    labels = dict(zip(model.pathologies,outputs[0].detach().numpy()))\n",
    "    return labels\n",
    "\n",
    "\n",
    "model_choices = [\"densenet121-res224-all\", \"densenet121-res224-rsna\",\"densenet121-res224-nih\",\"densenet121-res224-pc\",\"densenet121-res224-chex\",\"densenet121-res224-mimic_nb\",\"densenet121-res224-mimic_ch\"]\n",
    "\n",
    "demo = gr.Interface(fn=predict, \n",
    "             inputs=[gr.inputs.Image(type=\"filepath\"),gr.inputs.Dropdown(model_choices)],\n",
    "             outputs = gr.outputs.Textbox('labels'),\n",
    "             examples=[[\"16747_3_1.jpg\"]],\n",
    "             )\n",
    "             \n",
    "demo.launch(share=True, show_error=True)"
   ]
  },
  {
   "cell_type": "code",
   "execution_count": null,
   "id": "a1d20f01",
   "metadata": {},
   "outputs": [],
   "source": []
  }
 ],
 "metadata": {
  "kernelspec": {
   "display_name": "Python 3 (ipykernel)",
   "language": "python",
   "name": "python3"
  },
  "language_info": {
   "codemirror_mode": {
    "name": "ipython",
    "version": 3
   },
   "file_extension": ".py",
   "mimetype": "text/x-python",
   "name": "python",
   "nbconvert_exporter": "python",
   "pygments_lexer": "ipython3",
   "version": "3.9.5"
  }
 },
 "nbformat": 4,
 "nbformat_minor": 5
}
