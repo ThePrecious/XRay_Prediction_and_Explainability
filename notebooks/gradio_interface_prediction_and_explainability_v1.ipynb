{
  "nbformat": 4,
  "nbformat_minor": 0,
  "metadata": {
    "colab": {
      "provenance": [],
      "collapsed_sections": []
    },
    "kernelspec": {
      "name": "python3",
      "display_name": "Python 3"
    },
    "language_info": {
      "name": "python"
    }
  },
  "cells": [
    {
      "cell_type": "markdown",
      "source": [
        "In this demo file, we investigate methods for explainability in medical imaging using pre-trained TorchXRayVision models ( https://github.com/mlmed/torchxrayvision )."
      ],
      "metadata": {
        "id": "LgCVpNOeJei_"
      }
    },
    {
      "cell_type": "markdown",
      "source": [
        "# Setup"
      ],
      "metadata": {
        "id": "H-y0MPKAKMPZ"
      }
    },
    {
      "cell_type": "code",
      "source": [
        "!pip install torchxrayvision captum gradio\n",
        "!git clone https://github.com/mlmed/gifsplanation\n",
        "\n",
        "from pathlib import Path\n",
        "from typing import Callable\n",
        "\n",
        "import gradio as gr\n",
        "import numpy as np\n",
        "import torchxrayvision as xrv\n",
        "import skimage, torch, torchvision\n",
        "import matplotlib\n",
        "matplotlib.use('Agg')\n",
        "import matplotlib.pyplot as plt\n",
        "import sys,os\n",
        "sys.path.insert(0,\"./gifsplanation/\")\n",
        "\n",
        "from captum.attr import IntegratedGradients, Saliency, InputXGradient\n",
        "import attribution\n",
        "\n",
        "!wget https://raw.githubusercontent.com/mlmed/torchxrayvision/master/tests/16747_3_1.jpg #download test image"
      ],
      "metadata": {
        "id": "k5j6PvInJdZn",
        "colab": {
          "base_uri": "https://localhost:8080/"
        },
        "outputId": "a72277af-aa22-47bf-8a5c-ae95b451b067"
      },
      "execution_count": 31,
      "outputs": [
        {
          "output_type": "stream",
          "name": "stdout",
          "text": [
            "Looking in indexes: https://pypi.org/simple, https://us-python.pkg.dev/colab-wheels/public/simple/\n",
            "Requirement already satisfied: torchxrayvision in /usr/local/lib/python3.7/dist-packages (0.0.38)\n",
            "Requirement already satisfied: captum in /usr/local/lib/python3.7/dist-packages (0.5.0)\n",
            "Requirement already satisfied: gradio in /usr/local/lib/python3.7/dist-packages (3.4.0)\n",
            "Requirement already satisfied: pandas>=1 in /usr/local/lib/python3.7/dist-packages (from torchxrayvision) (1.3.5)\n",
            "Requirement already satisfied: torch>=1 in /usr/local/lib/python3.7/dist-packages (from torchxrayvision) (1.12.1+cu113)\n",
            "Requirement already satisfied: numpy>=1 in /usr/local/lib/python3.7/dist-packages (from torchxrayvision) (1.21.6)\n",
            "Requirement already satisfied: pillow>=5.3.0 in /usr/local/lib/python3.7/dist-packages (from torchxrayvision) (7.1.2)\n",
            "Requirement already satisfied: tqdm>=4 in /usr/local/lib/python3.7/dist-packages (from torchxrayvision) (4.64.1)\n",
            "Requirement already satisfied: requests>=1 in /usr/local/lib/python3.7/dist-packages (from torchxrayvision) (2.23.0)\n",
            "Requirement already satisfied: scikit-image>=0.16 in /usr/local/lib/python3.7/dist-packages (from torchxrayvision) (0.18.3)\n",
            "Requirement already satisfied: torchvision>=0.5 in /usr/local/lib/python3.7/dist-packages (from torchxrayvision) (0.13.1+cu113)\n",
            "Requirement already satisfied: python-dateutil>=2.7.3 in /usr/local/lib/python3.7/dist-packages (from pandas>=1->torchxrayvision) (2.8.2)\n",
            "Requirement already satisfied: pytz>=2017.3 in /usr/local/lib/python3.7/dist-packages (from pandas>=1->torchxrayvision) (2022.2.1)\n",
            "Requirement already satisfied: six>=1.5 in /usr/local/lib/python3.7/dist-packages (from python-dateutil>=2.7.3->pandas>=1->torchxrayvision) (1.15.0)\n",
            "Requirement already satisfied: idna<3,>=2.5 in /usr/local/lib/python3.7/dist-packages (from requests>=1->torchxrayvision) (2.10)\n",
            "Requirement already satisfied: urllib3!=1.25.0,!=1.25.1,<1.26,>=1.21.1 in /usr/local/lib/python3.7/dist-packages (from requests>=1->torchxrayvision) (1.24.3)\n",
            "Requirement already satisfied: chardet<4,>=3.0.2 in /usr/local/lib/python3.7/dist-packages (from requests>=1->torchxrayvision) (3.0.4)\n",
            "Requirement already satisfied: certifi>=2017.4.17 in /usr/local/lib/python3.7/dist-packages (from requests>=1->torchxrayvision) (2022.6.15)\n",
            "Requirement already satisfied: tifffile>=2019.7.26 in /usr/local/lib/python3.7/dist-packages (from scikit-image>=0.16->torchxrayvision) (2021.11.2)\n",
            "Requirement already satisfied: networkx>=2.0 in /usr/local/lib/python3.7/dist-packages (from scikit-image>=0.16->torchxrayvision) (2.6.3)\n",
            "Requirement already satisfied: imageio>=2.3.0 in /usr/local/lib/python3.7/dist-packages (from scikit-image>=0.16->torchxrayvision) (2.9.0)\n",
            "Requirement already satisfied: matplotlib!=3.0.0,>=2.0.0 in /usr/local/lib/python3.7/dist-packages (from scikit-image>=0.16->torchxrayvision) (3.2.2)\n",
            "Requirement already satisfied: PyWavelets>=1.1.1 in /usr/local/lib/python3.7/dist-packages (from scikit-image>=0.16->torchxrayvision) (1.3.0)\n",
            "Requirement already satisfied: scipy>=1.0.1 in /usr/local/lib/python3.7/dist-packages (from scikit-image>=0.16->torchxrayvision) (1.7.3)\n",
            "Requirement already satisfied: cycler>=0.10 in /usr/local/lib/python3.7/dist-packages (from matplotlib!=3.0.0,>=2.0.0->scikit-image>=0.16->torchxrayvision) (0.11.0)\n",
            "Requirement already satisfied: kiwisolver>=1.0.1 in /usr/local/lib/python3.7/dist-packages (from matplotlib!=3.0.0,>=2.0.0->scikit-image>=0.16->torchxrayvision) (1.4.4)\n",
            "Requirement already satisfied: pyparsing!=2.0.4,!=2.1.2,!=2.1.6,>=2.0.1 in /usr/local/lib/python3.7/dist-packages (from matplotlib!=3.0.0,>=2.0.0->scikit-image>=0.16->torchxrayvision) (3.0.9)\n",
            "Requirement already satisfied: typing-extensions in /usr/local/lib/python3.7/dist-packages (from kiwisolver>=1.0.1->matplotlib!=3.0.0,>=2.0.0->scikit-image>=0.16->torchxrayvision) (4.1.1)\n",
            "Requirement already satisfied: aiohttp in /usr/local/lib/python3.7/dist-packages (from gradio) (3.8.1)\n",
            "Requirement already satisfied: markdown-it-py[linkify,plugins] in /usr/local/lib/python3.7/dist-packages (from gradio) (2.1.0)\n",
            "Requirement already satisfied: pydantic in /usr/local/lib/python3.7/dist-packages (from gradio) (1.9.2)\n",
            "Requirement already satisfied: httpx in /usr/local/lib/python3.7/dist-packages (from gradio) (0.23.0)\n",
            "Requirement already satisfied: fastapi in /usr/local/lib/python3.7/dist-packages (from gradio) (0.85.0)\n",
            "Requirement already satisfied: uvicorn in /usr/local/lib/python3.7/dist-packages (from gradio) (0.18.3)\n",
            "Requirement already satisfied: python-multipart in /usr/local/lib/python3.7/dist-packages (from gradio) (0.0.5)\n",
            "Requirement already satisfied: pydub in /usr/local/lib/python3.7/dist-packages (from gradio) (0.25.1)\n",
            "Requirement already satisfied: pyyaml in /usr/local/lib/python3.7/dist-packages (from gradio) (6.0)\n",
            "Requirement already satisfied: ffmpy in /usr/local/lib/python3.7/dist-packages (from gradio) (0.3.0)\n",
            "Requirement already satisfied: jinja2 in /usr/local/lib/python3.7/dist-packages (from gradio) (2.11.3)\n",
            "Requirement already satisfied: paramiko in /usr/local/lib/python3.7/dist-packages (from gradio) (2.11.0)\n",
            "Requirement already satisfied: websockets in /usr/local/lib/python3.7/dist-packages (from gradio) (10.3)\n",
            "Requirement already satisfied: fsspec in /usr/local/lib/python3.7/dist-packages (from gradio) (2022.8.2)\n",
            "Requirement already satisfied: orjson in /usr/local/lib/python3.7/dist-packages (from gradio) (3.8.0)\n",
            "Requirement already satisfied: pycryptodome in /usr/local/lib/python3.7/dist-packages (from gradio) (3.15.0)\n",
            "Requirement already satisfied: h11<0.13,>=0.11 in /usr/local/lib/python3.7/dist-packages (from gradio) (0.12.0)\n",
            "Requirement already satisfied: charset-normalizer<3.0,>=2.0 in /usr/local/lib/python3.7/dist-packages (from aiohttp->gradio) (2.1.1)\n",
            "Requirement already satisfied: aiosignal>=1.1.2 in /usr/local/lib/python3.7/dist-packages (from aiohttp->gradio) (1.2.0)\n",
            "Requirement already satisfied: async-timeout<5.0,>=4.0.0a3 in /usr/local/lib/python3.7/dist-packages (from aiohttp->gradio) (4.0.2)\n",
            "Requirement already satisfied: yarl<2.0,>=1.0 in /usr/local/lib/python3.7/dist-packages (from aiohttp->gradio) (1.8.1)\n",
            "Requirement already satisfied: asynctest==0.13.0 in /usr/local/lib/python3.7/dist-packages (from aiohttp->gradio) (0.13.0)\n",
            "Requirement already satisfied: attrs>=17.3.0 in /usr/local/lib/python3.7/dist-packages (from aiohttp->gradio) (22.1.0)\n",
            "Requirement already satisfied: multidict<7.0,>=4.5 in /usr/local/lib/python3.7/dist-packages (from aiohttp->gradio) (6.0.2)\n",
            "Requirement already satisfied: frozenlist>=1.1.1 in /usr/local/lib/python3.7/dist-packages (from aiohttp->gradio) (1.3.1)\n",
            "Requirement already satisfied: starlette==0.20.4 in /usr/local/lib/python3.7/dist-packages (from fastapi->gradio) (0.20.4)\n",
            "Requirement already satisfied: anyio<5,>=3.4.0 in /usr/local/lib/python3.7/dist-packages (from starlette==0.20.4->fastapi->gradio) (3.6.1)\n",
            "Requirement already satisfied: sniffio>=1.1 in /usr/local/lib/python3.7/dist-packages (from anyio<5,>=3.4.0->starlette==0.20.4->fastapi->gradio) (1.3.0)\n",
            "Requirement already satisfied: rfc3986[idna2008]<2,>=1.3 in /usr/local/lib/python3.7/dist-packages (from httpx->gradio) (1.5.0)\n",
            "Requirement already satisfied: httpcore<0.16.0,>=0.15.0 in /usr/local/lib/python3.7/dist-packages (from httpx->gradio) (0.15.0)\n",
            "Requirement already satisfied: MarkupSafe>=0.23 in /usr/local/lib/python3.7/dist-packages (from jinja2->gradio) (2.0.1)\n",
            "Requirement already satisfied: mdurl~=0.1 in /usr/local/lib/python3.7/dist-packages (from markdown-it-py[linkify,plugins]->gradio) (0.1.2)\n",
            "Requirement already satisfied: mdit-py-plugins in /usr/local/lib/python3.7/dist-packages (from markdown-it-py[linkify,plugins]->gradio) (0.3.1)\n",
            "Requirement already satisfied: linkify-it-py~=1.0 in /usr/local/lib/python3.7/dist-packages (from markdown-it-py[linkify,plugins]->gradio) (1.0.3)\n",
            "Requirement already satisfied: uc-micro-py in /usr/local/lib/python3.7/dist-packages (from linkify-it-py~=1.0->markdown-it-py[linkify,plugins]->gradio) (1.0.1)\n",
            "Requirement already satisfied: bcrypt>=3.1.3 in /usr/local/lib/python3.7/dist-packages (from paramiko->gradio) (4.0.0)\n",
            "Requirement already satisfied: cryptography>=2.5 in /usr/local/lib/python3.7/dist-packages (from paramiko->gradio) (38.0.1)\n",
            "Requirement already satisfied: pynacl>=1.0.1 in /usr/local/lib/python3.7/dist-packages (from paramiko->gradio) (1.5.0)\n",
            "Requirement already satisfied: cffi>=1.12 in /usr/local/lib/python3.7/dist-packages (from cryptography>=2.5->paramiko->gradio) (1.15.1)\n",
            "Requirement already satisfied: pycparser in /usr/local/lib/python3.7/dist-packages (from cffi>=1.12->cryptography>=2.5->paramiko->gradio) (2.21)\n",
            "Requirement already satisfied: click>=7.0 in /usr/local/lib/python3.7/dist-packages (from uvicorn->gradio) (7.1.2)\n",
            "fatal: destination path 'gifsplanation' already exists and is not an empty directory.\n",
            "--2022-09-29 06:39:23--  https://raw.githubusercontent.com/mlmed/torchxrayvision/master/tests/16747_3_1.jpg\n",
            "Resolving raw.githubusercontent.com (raw.githubusercontent.com)... 185.199.108.133, 185.199.109.133, 185.199.110.133, ...\n",
            "Connecting to raw.githubusercontent.com (raw.githubusercontent.com)|185.199.108.133|:443... connected.\n",
            "HTTP request sent, awaiting response... 200 OK\n",
            "Length: 90480 (88K) [image/jpeg]\n",
            "Saving to: ‘16747_3_1.jpg.2’\n",
            "\n",
            "16747_3_1.jpg.2     100%[===================>]  88.36K  --.-KB/s    in 0.01s   \n",
            "\n",
            "2022-09-29 06:39:23 (8.76 MB/s) - ‘16747_3_1.jpg.2’ saved [90480/90480]\n",
            "\n"
          ]
        }
      ]
    },
    {
      "cell_type": "code",
      "source": [
        "def make_fig(plot_matrix):\n",
        "    fig = plt.figure(figsize=(20,20))\n",
        "    plt.imshow(plot_matrix, cmap=plt.cm.hot)\n",
        "    #plt.title(plot_title)\n",
        "    ax = plt.gca()\n",
        "    ax.get_xaxis().set_visible(False)\n",
        "    ax.get_yaxis().set_visible(False)\n",
        "\n",
        "    return fig"
      ],
      "metadata": {
        "id": "2gC1DVSQrJmG"
      },
      "execution_count": 51,
      "outputs": []
    },
    {
      "cell_type": "code",
      "source": [
        "def xrv_prepare_image(image):\n",
        "    img = xrv.datasets.normalize(image, 255) # convert 8-bit image to [-1024, 1024] range\n",
        "    img = img.mean(2)[None, ...] # Make single color channel\n",
        "    transform = torchvision.transforms.Compose([xrv.datasets.XRayCenterCrop(),xrv.datasets.XRayResizer(224)])\n",
        "    img = transform(img)\n",
        "    img = torch.from_numpy(img)\n",
        "    \n",
        "    return img[None,...]"
      ],
      "metadata": {
        "id": "G2HkZKeO0LiM"
      },
      "execution_count": 33,
      "outputs": []
    },
    {
      "cell_type": "code",
      "source": [
        "def predict(image, model_choice):\n",
        "    \"\"\"Function that serves predictions.\"\"\"\n",
        "    img = xrv_prepare_image(image)\n",
        "    model = xrv.models.DenseNet(weights=model_choice)\n",
        "    model.eval()\n",
        "\n",
        "    outputs = model(img)\n",
        "    scores =  outputs[0].detach().numpy().astype(np.float) #conversion to np.float is needed for visualization with gr.Label\n",
        "    label = dict(zip(model.pathologies, scores) )\n",
        "    return label"
      ],
      "metadata": {
        "id": "ZtD_I2MDWdpZ"
      },
      "execution_count": 34,
      "outputs": []
    },
    {
      "cell_type": "code",
      "source": [
        "def explain_gradient(image, model_choice, target):\n",
        "    \"\"\"Function that serves explanations.\"\"\"\n",
        "    \n",
        "    model = xrv.models.DenseNet(weights=model_choice)\n",
        "    input = xrv_prepare_image(image)\n",
        "    \n",
        "    #Saliency\n",
        "    saliency = Saliency(model)\n",
        "    attr = saliency.attribute(input, target=model.pathologies.index(target))\n",
        "    fig1 = make_fig( np.abs(attr[0,0].numpy()) )\n",
        "\n",
        "    return fig1\n",
        "\n",
        "def explain_input_x_gradient(image, model_choice, target):\n",
        "    \"\"\"Function that serves explanations.\"\"\"\n",
        "    \n",
        "    model = xrv.models.DenseNet(weights=model_choice)\n",
        "    input = xrv_prepare_image(image)\n",
        "    \n",
        "    #InputXGradient\n",
        "    ixg = InputXGradient(model)\n",
        "    attr = ixg.attribute(input, target=model.pathologies.index(target))\n",
        "    fig2 = make_fig( np.abs(attr[0,0].detach().numpy()) ) \n",
        "    return fig2\n",
        "    \n",
        "def explain_integrated_gradients(image, model_choice, target):\n",
        "    \"\"\"Function that serves explanations.\"\"\"\n",
        "    \n",
        "    model = xrv.models.DenseNet(weights=model_choice)\n",
        "    input = xrv_prepare_image(image)\n",
        "    \n",
        "    #IntegratedGradients\n",
        "    ig = IntegratedGradients(model)\n",
        "    attr = ig.attribute(input, target=model.pathologies.index(target))\n",
        "    fig3 = make_fig( np.abs(attr[0,0].detach().numpy()) )\n",
        "    return fig3\n",
        "\n",
        "def explain_gifsplanation(image, model_choice, target):\n",
        "    \"\"\"Function that serves explanations.\"\"\"\n",
        "    \n",
        "    model = xrv.models.DenseNet(weights=model_choice)\n",
        "    input = xrv_prepare_image(image)\n",
        "    \n",
        "    #Gifsplanation\n",
        "    input.requires_grad=False\n",
        "    ae = xrv.autoencoders.ResNetAE(weights=\"101-elastic\")\n",
        "    movie = attribution.generate_video(input, model, target, ae, target_filename=\"test\", border=False, show=False,\n",
        "                        ffmpeg_path=\"ffmpeg\")\n",
        "\n",
        "    return movie"
      ],
      "metadata": {
        "id": "_W8gC4hVWigW"
      },
      "execution_count": 35,
      "outputs": []
    },
    {
      "cell_type": "code",
      "source": [
        "model_choices = [\"densenet121-res224-all\", \"densenet121-res224-rsna\",\"densenet121-res224-nih\",\"densenet121-res224-pc\",\"densenet121-res224-chex\",\"densenet121-res224-mimic_nb\",\"densenet121-res224-mimic_ch\"]\n",
        "\n",
        "target_choices = ['Atelectasis','Consolidation','Infiltration','Pneumothorax','Edema','Emphysema',\n",
        "                'Fibrosis','Effusion','Pneumonia','Pleural_Thickening','Cardiomegaly','Nodule','Mass',\n",
        "                'Hernia','Lung Lesion','Fracture','Lung Opacity','Enlarged Cardiomediastinum']"
      ],
      "metadata": {
        "id": "rrAJaIdpMgFt"
      },
      "execution_count": 36,
      "outputs": []
    },
    {
      "cell_type": "code",
      "source": [
        "# build a basic browser interface to a Python function\n",
        "frontend = gr.Blocks()\n",
        "\n",
        "with frontend:\n",
        "  gr.Markdown(\n",
        "    \"\"\"\n",
        "    # X-Ray Diagnosis\n",
        "    Explore TorchXRayVision model predictions and data using this demo.\n",
        "    \"\"\"\n",
        "    )\n",
        "  #layout\n",
        "  with gr.Tab(\"Prediction\"):\n",
        "    with gr.Row():\n",
        "      with gr.Column():\n",
        "        input_image = gr.Image(label=\"X-ray image\")\n",
        "        select_model = gr.Dropdown(label=\"Select model\", choices=model_choices)\n",
        "        with gr.Row():\n",
        "          submit_button = gr.Button(\"Submit\")\n",
        "        gr.Examples([\"16747_3_1.jpg\"], inputs=input_image)\n",
        "\n",
        "      with gr.Column():\n",
        "        label = gr.Label(label=\"Multiclass predictions\")\n",
        "\n",
        "  submit_button.click(predict, [input_image, select_model], label) \n",
        "\n",
        "  with gr.Tab(\"Saliency maps\"):\n",
        "\n",
        "    with gr.Row():\n",
        "      with gr.Column():\n",
        "        select_target = gr.Dropdown(label=\"Select target\", choices=target_choices)\n",
        "        with gr.Row():\n",
        "          original_image = gr.Image(label='Original', interactive=False)\n",
        "          gradient_plot = gr.Plot(label=\"Gradient\")\n",
        "        with gr.Row():\n",
        "          input_x_gradient_plot = gr.Plot(label='InputXGradient')\n",
        "          integrated_gradients_plot = gr.Plot(label=\"IntegratedGradients\")\n",
        "\n",
        "  input_image.change(lambda s: s, inputs=input_image, outputs=original_image)\n",
        "  select_target.change(explain_gradient, inputs=[input_image,select_model, select_target], outputs=gradient_plot)\n",
        "  select_target.change(explain_input_x_gradient, inputs=[input_image,select_model, select_target], outputs=input_x_gradient_plot)\n",
        "  select_target.change(explain_integrated_gradients, inputs=[input_image,select_model, select_target], outputs=integrated_gradients_plot)\n",
        "\n",
        "  with gr.Tab(\"Gifsplanation\"):\n",
        "    with gr.Row():\n",
        "      with gr.Column():\n",
        "        select_target2 = gr.Dropdown(label=\"Select target\", choices=target_choices)\n",
        "        with gr.Row():\n",
        "          original_image = gr.Image(label='Original', interactive=False)\n",
        "          gifsplanation_vid = gr.Video(label=\"Gifsplanation\")\n",
        "\n",
        "  input_image.change(lambda s: s, inputs=input_image, outputs=original_image)\n",
        "  select_target2.change(explain_gifsplanation, inputs=[input_image,select_model, select_target2], outputs=gifsplanation_vid)\n",
        "\n",
        "frontend.launch(share=True, show_error=True)"
      ],
      "metadata": {
        "colab": {
          "base_uri": "https://localhost:8080/",
          "height": 645
        },
        "id": "FgaSMp450Orq",
        "outputId": "8092805e-e72c-4ba3-b15f-a0901ac0254a"
      },
      "execution_count": 53,
      "outputs": [
        {
          "output_type": "stream",
          "name": "stdout",
          "text": [
            "Colab notebook detected. To show errors in colab notebook, set `debug=True` in `launch()`\n",
            "Running on public URL: https://28300.gradio.app\n",
            "\n",
            "This share link expires in 72 hours. For free permanent hosting, check out Spaces: https://huggingface.co/spaces\n"
          ]
        },
        {
          "output_type": "display_data",
          "data": {
            "text/plain": [
              "<IPython.core.display.HTML object>"
            ],
            "text/html": [
              "<div><iframe src=\"https://28300.gradio.app\" width=\"900\" height=\"500\" allow=\"autoplay; camera; microphone; clipboard-read; clipboard-write;\" frameborder=\"0\" allowfullscreen></iframe></div>"
            ]
          },
          "metadata": {}
        },
        {
          "output_type": "execute_result",
          "data": {
            "text/plain": [
              "(<gradio.routes.App at 0x7f96f1e64c90>,\n",
              " 'http://127.0.0.1:7862/',\n",
              " 'https://28300.gradio.app')"
            ]
          },
          "metadata": {},
          "execution_count": 53
        }
      ]
    },
    {
      "cell_type": "code",
      "source": [
        "frontend.close()"
      ],
      "metadata": {
        "colab": {
          "base_uri": "https://localhost:8080/"
        },
        "id": "DtmSE-lZuDWp",
        "outputId": "be903811-5f31-47f2-c90c-0a8ced8e1644"
      },
      "execution_count": 52,
      "outputs": [
        {
          "output_type": "stream",
          "name": "stdout",
          "text": [
            "Closing server running on port: 7863\n"
          ]
        }
      ]
    },
    {
      "cell_type": "code",
      "source": [],
      "metadata": {
        "id": "mZCfpfGq942W"
      },
      "execution_count": null,
      "outputs": []
    }
  ]
}