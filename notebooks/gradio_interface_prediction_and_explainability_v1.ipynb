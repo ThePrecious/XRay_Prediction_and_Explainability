{
  "nbformat": 4,
  "nbformat_minor": 0,
  "metadata": {
    "colab": {
      "provenance": [],
      "collapsed_sections": []
    },
    "kernelspec": {
      "name": "python3",
      "display_name": "Python 3"
    },
    "language_info": {
      "name": "python"
    }
  },
  "cells": [
    {
      "cell_type": "markdown",
      "source": [
        "In this demo file, we investigate methods for explainability in medical imaging using pre-trained TorchXRayVision models ( https://github.com/mlmed/torchxrayvision )."
      ],
      "metadata": {
        "id": "LgCVpNOeJei_"
      }
    },
    {
      "cell_type": "markdown",
      "source": [
        "# Setup"
      ],
      "metadata": {
        "id": "H-y0MPKAKMPZ"
      }
    },
    {
      "cell_type": "code",
      "source": [
        "!pip install torchxrayvision captum gradio\n",
        "!git clone https://github.com/mlmed/gifsplanation\n",
        "\n",
        "from pathlib import Path\n",
        "from typing import Callable\n",
        "\n",
        "import gradio as gr\n",
        "import numpy as np\n",
        "import torchxrayvision as xrv\n",
        "import skimage, torch, torchvision\n",
        "import matplotlib\n",
        "matplotlib.use('Agg')\n",
        "import matplotlib.pyplot as plt\n",
        "import sys,os\n",
        "sys.path.insert(0,\"./gifsplanation/\")\n",
        "\n",
        "from captum.attr import IntegratedGradients, Saliency, InputXGradient\n",
        "import attribution\n",
        "\n",
        "!wget https://raw.githubusercontent.com/mlmed/torchxrayvision/master/tests/16747_3_1.jpg #download test image"
      ],
      "metadata": {
        "id": "k5j6PvInJdZn",
        "colab": {
          "base_uri": "https://localhost:8080/"
        },
        "outputId": "a858ab9e-9261-4f08-da32-f2660f555c66"
      },
      "execution_count": 1,
      "outputs": [
        {
          "output_type": "stream",
          "name": "stdout",
          "text": [
            "Looking in indexes: https://pypi.org/simple, https://us-python.pkg.dev/colab-wheels/public/simple/\n",
            "Collecting torchxrayvision\n",
            "  Downloading torchxrayvision-0.0.38-py3-none-any.whl (29.0 MB)\n",
            "\u001b[K     |████████████████████████████████| 29.0 MB 67.2 MB/s \n",
            "\u001b[?25hCollecting captum\n",
            "  Downloading captum-0.5.0-py3-none-any.whl (1.4 MB)\n",
            "\u001b[K     |████████████████████████████████| 1.4 MB 26.3 MB/s \n",
            "\u001b[?25hCollecting gradio\n",
            "  Downloading gradio-3.4.0-py3-none-any.whl (5.3 MB)\n",
            "\u001b[K     |████████████████████████████████| 5.3 MB 1.6 MB/s \n",
            "\u001b[?25hRequirement already satisfied: numpy>=1 in /usr/local/lib/python3.7/dist-packages (from torchxrayvision) (1.21.6)\n",
            "Requirement already satisfied: pillow>=5.3.0 in /usr/local/lib/python3.7/dist-packages (from torchxrayvision) (7.1.2)\n",
            "Requirement already satisfied: tqdm>=4 in /usr/local/lib/python3.7/dist-packages (from torchxrayvision) (4.64.1)\n",
            "Requirement already satisfied: torch>=1 in /usr/local/lib/python3.7/dist-packages (from torchxrayvision) (1.12.1+cu113)\n",
            "Requirement already satisfied: requests>=1 in /usr/local/lib/python3.7/dist-packages (from torchxrayvision) (2.23.0)\n",
            "Requirement already satisfied: torchvision>=0.5 in /usr/local/lib/python3.7/dist-packages (from torchxrayvision) (0.13.1+cu113)\n",
            "Requirement already satisfied: pandas>=1 in /usr/local/lib/python3.7/dist-packages (from torchxrayvision) (1.3.5)\n",
            "Requirement already satisfied: scikit-image>=0.16 in /usr/local/lib/python3.7/dist-packages (from torchxrayvision) (0.18.3)\n",
            "Requirement already satisfied: pytz>=2017.3 in /usr/local/lib/python3.7/dist-packages (from pandas>=1->torchxrayvision) (2022.2.1)\n",
            "Requirement already satisfied: python-dateutil>=2.7.3 in /usr/local/lib/python3.7/dist-packages (from pandas>=1->torchxrayvision) (2.8.2)\n",
            "Requirement already satisfied: six>=1.5 in /usr/local/lib/python3.7/dist-packages (from python-dateutil>=2.7.3->pandas>=1->torchxrayvision) (1.15.0)\n",
            "Requirement already satisfied: certifi>=2017.4.17 in /usr/local/lib/python3.7/dist-packages (from requests>=1->torchxrayvision) (2022.6.15)\n",
            "Requirement already satisfied: chardet<4,>=3.0.2 in /usr/local/lib/python3.7/dist-packages (from requests>=1->torchxrayvision) (3.0.4)\n",
            "Requirement already satisfied: idna<3,>=2.5 in /usr/local/lib/python3.7/dist-packages (from requests>=1->torchxrayvision) (2.10)\n",
            "Requirement already satisfied: urllib3!=1.25.0,!=1.25.1,<1.26,>=1.21.1 in /usr/local/lib/python3.7/dist-packages (from requests>=1->torchxrayvision) (1.24.3)\n",
            "Requirement already satisfied: tifffile>=2019.7.26 in /usr/local/lib/python3.7/dist-packages (from scikit-image>=0.16->torchxrayvision) (2021.11.2)\n",
            "Requirement already satisfied: networkx>=2.0 in /usr/local/lib/python3.7/dist-packages (from scikit-image>=0.16->torchxrayvision) (2.6.3)\n",
            "Requirement already satisfied: scipy>=1.0.1 in /usr/local/lib/python3.7/dist-packages (from scikit-image>=0.16->torchxrayvision) (1.7.3)\n",
            "Requirement already satisfied: PyWavelets>=1.1.1 in /usr/local/lib/python3.7/dist-packages (from scikit-image>=0.16->torchxrayvision) (1.3.0)\n",
            "Requirement already satisfied: matplotlib!=3.0.0,>=2.0.0 in /usr/local/lib/python3.7/dist-packages (from scikit-image>=0.16->torchxrayvision) (3.2.2)\n",
            "Requirement already satisfied: imageio>=2.3.0 in /usr/local/lib/python3.7/dist-packages (from scikit-image>=0.16->torchxrayvision) (2.9.0)\n",
            "Requirement already satisfied: kiwisolver>=1.0.1 in /usr/local/lib/python3.7/dist-packages (from matplotlib!=3.0.0,>=2.0.0->scikit-image>=0.16->torchxrayvision) (1.4.4)\n",
            "Requirement already satisfied: pyparsing!=2.0.4,!=2.1.2,!=2.1.6,>=2.0.1 in /usr/local/lib/python3.7/dist-packages (from matplotlib!=3.0.0,>=2.0.0->scikit-image>=0.16->torchxrayvision) (3.0.9)\n",
            "Requirement already satisfied: cycler>=0.10 in /usr/local/lib/python3.7/dist-packages (from matplotlib!=3.0.0,>=2.0.0->scikit-image>=0.16->torchxrayvision) (0.11.0)\n",
            "Requirement already satisfied: typing-extensions in /usr/local/lib/python3.7/dist-packages (from kiwisolver>=1.0.1->matplotlib!=3.0.0,>=2.0.0->scikit-image>=0.16->torchxrayvision) (4.1.1)\n",
            "Requirement already satisfied: pydantic in /usr/local/lib/python3.7/dist-packages (from gradio) (1.9.2)\n",
            "Requirement already satisfied: aiohttp in /usr/local/lib/python3.7/dist-packages (from gradio) (3.8.1)\n",
            "Collecting httpx\n",
            "  Downloading httpx-0.23.0-py3-none-any.whl (84 kB)\n",
            "\u001b[K     |████████████████████████████████| 84 kB 2.3 MB/s \n",
            "\u001b[?25hCollecting paramiko\n",
            "  Downloading paramiko-2.11.0-py2.py3-none-any.whl (212 kB)\n",
            "\u001b[K     |████████████████████████████████| 212 kB 49.1 MB/s \n",
            "\u001b[?25hCollecting pycryptodome\n",
            "  Downloading pycryptodome-3.15.0-cp35-abi3-manylinux2010_x86_64.whl (2.3 MB)\n",
            "\u001b[K     |████████████████████████████████| 2.3 MB 33.9 MB/s \n",
            "\u001b[?25hCollecting orjson\n",
            "  Downloading orjson-3.8.0-cp37-cp37m-manylinux_2_17_x86_64.manylinux2014_x86_64.whl (270 kB)\n",
            "\u001b[K     |████████████████████████████████| 270 kB 39.1 MB/s \n",
            "\u001b[?25hCollecting fastapi\n",
            "  Downloading fastapi-0.85.0-py3-none-any.whl (55 kB)\n",
            "\u001b[K     |████████████████████████████████| 55 kB 2.6 MB/s \n",
            "\u001b[?25hCollecting markdown-it-py[linkify,plugins]\n",
            "  Downloading markdown_it_py-2.1.0-py3-none-any.whl (84 kB)\n",
            "\u001b[K     |████████████████████████████████| 84 kB 1.1 MB/s \n",
            "\u001b[?25hCollecting uvicorn\n",
            "  Downloading uvicorn-0.18.3-py3-none-any.whl (57 kB)\n",
            "\u001b[K     |████████████████████████████████| 57 kB 4.8 MB/s \n",
            "\u001b[?25hCollecting h11<0.13,>=0.11\n",
            "  Downloading h11-0.12.0-py3-none-any.whl (54 kB)\n",
            "\u001b[K     |████████████████████████████████| 54 kB 3.4 MB/s \n",
            "\u001b[?25hRequirement already satisfied: fsspec in /usr/local/lib/python3.7/dist-packages (from gradio) (2022.8.2)\n",
            "Requirement already satisfied: pyyaml in /usr/local/lib/python3.7/dist-packages (from gradio) (6.0)\n",
            "Collecting ffmpy\n",
            "  Downloading ffmpy-0.3.0.tar.gz (4.8 kB)\n",
            "Collecting websockets\n",
            "  Downloading websockets-10.3-cp37-cp37m-manylinux_2_5_x86_64.manylinux1_x86_64.manylinux_2_12_x86_64.manylinux2010_x86_64.whl (112 kB)\n",
            "\u001b[K     |████████████████████████████████| 112 kB 45.9 MB/s \n",
            "\u001b[?25hCollecting python-multipart\n",
            "  Downloading python-multipart-0.0.5.tar.gz (32 kB)\n",
            "Requirement already satisfied: jinja2 in /usr/local/lib/python3.7/dist-packages (from gradio) (2.11.3)\n",
            "Collecting pydub\n",
            "  Downloading pydub-0.25.1-py2.py3-none-any.whl (32 kB)\n",
            "Requirement already satisfied: yarl<2.0,>=1.0 in /usr/local/lib/python3.7/dist-packages (from aiohttp->gradio) (1.8.1)\n",
            "Requirement already satisfied: attrs>=17.3.0 in /usr/local/lib/python3.7/dist-packages (from aiohttp->gradio) (22.1.0)\n",
            "Requirement already satisfied: async-timeout<5.0,>=4.0.0a3 in /usr/local/lib/python3.7/dist-packages (from aiohttp->gradio) (4.0.2)\n",
            "Requirement already satisfied: aiosignal>=1.1.2 in /usr/local/lib/python3.7/dist-packages (from aiohttp->gradio) (1.2.0)\n",
            "Requirement already satisfied: asynctest==0.13.0 in /usr/local/lib/python3.7/dist-packages (from aiohttp->gradio) (0.13.0)\n",
            "Requirement already satisfied: frozenlist>=1.1.1 in /usr/local/lib/python3.7/dist-packages (from aiohttp->gradio) (1.3.1)\n",
            "Requirement already satisfied: charset-normalizer<3.0,>=2.0 in /usr/local/lib/python3.7/dist-packages (from aiohttp->gradio) (2.1.1)\n",
            "Requirement already satisfied: multidict<7.0,>=4.5 in /usr/local/lib/python3.7/dist-packages (from aiohttp->gradio) (6.0.2)\n",
            "Collecting starlette==0.20.4\n",
            "  Downloading starlette-0.20.4-py3-none-any.whl (63 kB)\n",
            "\u001b[K     |████████████████████████████████| 63 kB 2.0 MB/s \n",
            "\u001b[?25hCollecting anyio<5,>=3.4.0\n",
            "  Downloading anyio-3.6.1-py3-none-any.whl (80 kB)\n",
            "\u001b[K     |████████████████████████████████| 80 kB 6.2 MB/s \n",
            "\u001b[?25hCollecting sniffio>=1.1\n",
            "  Downloading sniffio-1.3.0-py3-none-any.whl (10 kB)\n",
            "Collecting rfc3986[idna2008]<2,>=1.3\n",
            "  Downloading rfc3986-1.5.0-py2.py3-none-any.whl (31 kB)\n",
            "Collecting httpcore<0.16.0,>=0.15.0\n",
            "  Downloading httpcore-0.15.0-py3-none-any.whl (68 kB)\n",
            "\u001b[K     |████████████████████████████████| 68 kB 5.5 MB/s \n",
            "\u001b[?25hRequirement already satisfied: MarkupSafe>=0.23 in /usr/local/lib/python3.7/dist-packages (from jinja2->gradio) (2.0.1)\n",
            "Collecting mdurl~=0.1\n",
            "  Downloading mdurl-0.1.2-py3-none-any.whl (10.0 kB)\n",
            "Collecting linkify-it-py~=1.0\n",
            "  Downloading linkify_it_py-1.0.3-py3-none-any.whl (19 kB)\n",
            "Collecting mdit-py-plugins\n",
            "  Downloading mdit_py_plugins-0.3.1-py3-none-any.whl (46 kB)\n",
            "\u001b[K     |████████████████████████████████| 46 kB 3.7 MB/s \n",
            "\u001b[?25hCollecting uc-micro-py\n",
            "  Downloading uc_micro_py-1.0.1-py3-none-any.whl (6.2 kB)\n",
            "Collecting pynacl>=1.0.1\n",
            "  Downloading PyNaCl-1.5.0-cp36-abi3-manylinux_2_17_x86_64.manylinux2014_x86_64.manylinux_2_24_x86_64.whl (856 kB)\n",
            "\u001b[K     |████████████████████████████████| 856 kB 61.7 MB/s \n",
            "\u001b[?25hCollecting bcrypt>=3.1.3\n",
            "  Downloading bcrypt-4.0.0-cp36-abi3-manylinux_2_24_x86_64.whl (594 kB)\n",
            "\u001b[K     |████████████████████████████████| 594 kB 60.5 MB/s \n",
            "\u001b[?25hCollecting cryptography>=2.5\n",
            "  Downloading cryptography-38.0.1-cp36-abi3-manylinux_2_24_x86_64.whl (4.0 MB)\n",
            "\u001b[K     |████████████████████████████████| 4.0 MB 36.5 MB/s \n",
            "\u001b[?25hRequirement already satisfied: cffi>=1.12 in /usr/local/lib/python3.7/dist-packages (from cryptography>=2.5->paramiko->gradio) (1.15.1)\n",
            "Requirement already satisfied: pycparser in /usr/local/lib/python3.7/dist-packages (from cffi>=1.12->cryptography>=2.5->paramiko->gradio) (2.21)\n",
            "Requirement already satisfied: click>=7.0 in /usr/local/lib/python3.7/dist-packages (from uvicorn->gradio) (7.1.2)\n",
            "Building wheels for collected packages: ffmpy, python-multipart\n",
            "  Building wheel for ffmpy (setup.py) ... \u001b[?25l\u001b[?25hdone\n",
            "  Created wheel for ffmpy: filename=ffmpy-0.3.0-py3-none-any.whl size=4712 sha256=3dc7f1910ccb5db7236f9130f922277222d5101332d3353b5bbfb87121da6dd2\n",
            "  Stored in directory: /root/.cache/pip/wheels/13/e4/6c/e8059816e86796a597c6e6b0d4c880630f51a1fcfa0befd5e6\n",
            "  Building wheel for python-multipart (setup.py) ... \u001b[?25l\u001b[?25hdone\n",
            "  Created wheel for python-multipart: filename=python_multipart-0.0.5-py3-none-any.whl size=31678 sha256=fc79ad2e066b3769d493dcc1f0c2b69fc8c60e9fcad4cd3edfc1039015e9b38b\n",
            "  Stored in directory: /root/.cache/pip/wheels/2c/41/7c/bfd1c180534ffdcc0972f78c5758f89881602175d48a8bcd2c\n",
            "Successfully built ffmpy python-multipart\n",
            "Installing collected packages: sniffio, mdurl, uc-micro-py, rfc3986, markdown-it-py, h11, anyio, starlette, pynacl, mdit-py-plugins, linkify-it-py, httpcore, cryptography, bcrypt, websockets, uvicorn, python-multipart, pydub, pycryptodome, paramiko, orjson, httpx, ffmpy, fastapi, torchxrayvision, gradio, captum\n",
            "Successfully installed anyio-3.6.1 bcrypt-4.0.0 captum-0.5.0 cryptography-38.0.1 fastapi-0.85.0 ffmpy-0.3.0 gradio-3.4.0 h11-0.12.0 httpcore-0.15.0 httpx-0.23.0 linkify-it-py-1.0.3 markdown-it-py-2.1.0 mdit-py-plugins-0.3.1 mdurl-0.1.2 orjson-3.8.0 paramiko-2.11.0 pycryptodome-3.15.0 pydub-0.25.1 pynacl-1.5.0 python-multipart-0.0.5 rfc3986-1.5.0 sniffio-1.3.0 starlette-0.20.4 torchxrayvision-0.0.38 uc-micro-py-1.0.1 uvicorn-0.18.3 websockets-10.3\n",
            "Cloning into 'gifsplanation'...\n",
            "remote: Enumerating objects: 217, done.\u001b[K\n",
            "remote: Counting objects: 100% (6/6), done.\u001b[K\n",
            "remote: Compressing objects: 100% (6/6), done.\u001b[K\n",
            "remote: Total 217 (delta 1), reused 1 (delta 0), pack-reused 211\u001b[K\n",
            "Receiving objects: 100% (217/217), 38.47 MiB | 31.41 MiB/s, done.\n",
            "Resolving deltas: 100% (101/101), done.\n",
            "--2022-10-02 23:53:55--  https://raw.githubusercontent.com/mlmed/torchxrayvision/master/tests/16747_3_1.jpg\n",
            "Resolving raw.githubusercontent.com (raw.githubusercontent.com)... 185.199.109.133, 185.199.110.133, 185.199.111.133, ...\n",
            "Connecting to raw.githubusercontent.com (raw.githubusercontent.com)|185.199.109.133|:443... connected.\n",
            "HTTP request sent, awaiting response... 200 OK\n",
            "Length: 90480 (88K) [image/jpeg]\n",
            "Saving to: ‘16747_3_1.jpg’\n",
            "\n",
            "16747_3_1.jpg       100%[===================>]  88.36K  --.-KB/s    in 0.01s   \n",
            "\n",
            "2022-10-02 23:53:55 (6.46 MB/s) - ‘16747_3_1.jpg’ saved [90480/90480]\n",
            "\n"
          ]
        }
      ]
    },
    {
      "cell_type": "code",
      "source": [
        "def make_fig(plot_matrix):\n",
        "    fig = plt.figure()\n",
        "    plt.imshow(plot_matrix, cmap=plt.cm.hot)\n",
        "    #plt.title(plot_title)\n",
        "    ax = plt.gca()\n",
        "    ax.get_xaxis().set_visible(False)\n",
        "    ax.get_yaxis().set_visible(False)\n",
        "\n",
        "    return fig"
      ],
      "metadata": {
        "id": "2gC1DVSQrJmG"
      },
      "execution_count": 2,
      "outputs": []
    },
    {
      "cell_type": "code",
      "source": [
        "def xrv_prepare_image(image):\n",
        "    img = xrv.datasets.normalize(image, 255) # convert 8-bit image to [-1024, 1024] range\n",
        "    img = img.mean(2)[None, ...] # Make single color channel\n",
        "    transform = torchvision.transforms.Compose([xrv.datasets.XRayCenterCrop(),xrv.datasets.XRayResizer(224)])\n",
        "    img = transform(img)\n",
        "    img = torch.from_numpy(img)\n",
        "    \n",
        "    return img[None,...]"
      ],
      "metadata": {
        "id": "G2HkZKeO0LiM"
      },
      "execution_count": 3,
      "outputs": []
    },
    {
      "cell_type": "code",
      "source": [
        "def predict(image, model_choice):\n",
        "    \"\"\"Function that serves predictions.\"\"\"\n",
        "    img = xrv_prepare_image(image)\n",
        "    model = xrv.models.DenseNet(weights=model_choice)\n",
        "    model.eval()\n",
        "\n",
        "    outputs = model(img)\n",
        "    scores =  outputs[0].detach().numpy().astype(np.float) #conversion to np.float is needed for visualization with gr.Label\n",
        "    label = dict(zip(model.pathologies, scores) )\n",
        "    return label"
      ],
      "metadata": {
        "id": "ZtD_I2MDWdpZ"
      },
      "execution_count": 4,
      "outputs": []
    },
    {
      "cell_type": "code",
      "source": [
        "def explain_gradient(image, model_choice, target):\n",
        "    \"\"\"Function that serves explanations.\"\"\"\n",
        "    \n",
        "    model = xrv.models.DenseNet(weights=model_choice)\n",
        "    input = xrv_prepare_image(image)\n",
        "    \n",
        "    #Saliency\n",
        "    saliency = Saliency(model)\n",
        "    attr = saliency.attribute(input, target=model.pathologies.index(target))\n",
        "    fig1 = make_fig( np.abs(attr[0,0].numpy()) )\n",
        "\n",
        "    return fig1\n",
        "\n",
        "def explain_input_x_gradient(image, model_choice, target):\n",
        "    \"\"\"Function that serves explanations.\"\"\"\n",
        "    \n",
        "    model = xrv.models.DenseNet(weights=model_choice)\n",
        "    input = xrv_prepare_image(image)\n",
        "    \n",
        "    #InputXGradient\n",
        "    ixg = InputXGradient(model)\n",
        "    attr = ixg.attribute(input, target=model.pathologies.index(target))\n",
        "    fig2 = make_fig( np.abs(attr[0,0].detach().numpy()) ) \n",
        "    return fig2\n",
        "    \n",
        "def explain_integrated_gradients(image, model_choice, target):\n",
        "    \"\"\"Function that serves explanations.\"\"\"\n",
        "    \n",
        "    model = xrv.models.DenseNet(weights=model_choice)\n",
        "    input = xrv_prepare_image(image)\n",
        "    \n",
        "    #IntegratedGradients\n",
        "    ig = IntegratedGradients(model)\n",
        "    attr = ig.attribute(input, target=model.pathologies.index(target))\n",
        "    fig3 = make_fig( np.abs(attr[0,0].detach().numpy()) )\n",
        "    return fig3\n",
        "\n",
        "def explain_gifsplanation(image, model_choice, target):\n",
        "    \"\"\"Function that serves explanations.\"\"\"\n",
        "    \n",
        "    model = xrv.models.DenseNet(weights=model_choice)\n",
        "    input = xrv_prepare_image(image)\n",
        "    \n",
        "    #Gifsplanation\n",
        "    input.requires_grad=False\n",
        "    ae = xrv.autoencoders.ResNetAE(weights=\"101-elastic\")\n",
        "    movie = attribution.generate_video(input, model, target, ae, target_filename=\"test\", border=False, show=False,\n",
        "                        ffmpeg_path=\"ffmpeg\")\n",
        "\n",
        "    return movie"
      ],
      "metadata": {
        "id": "_W8gC4hVWigW"
      },
      "execution_count": 5,
      "outputs": []
    },
    {
      "cell_type": "code",
      "source": [
        "model_choices = [\"densenet121-res224-all\", \"densenet121-res224-rsna\",\"densenet121-res224-nih\",\"densenet121-res224-pc\",\"densenet121-res224-chex\",\"densenet121-res224-mimic_nb\",\"densenet121-res224-mimic_ch\"]\n",
        "\n",
        "target_choices = ['Atelectasis','Consolidation','Infiltration','Pneumothorax','Edema','Emphysema',\n",
        "                'Fibrosis','Effusion','Pneumonia','Pleural_Thickening','Cardiomegaly','Nodule','Mass',\n",
        "                'Hernia','Lung Lesion','Fracture','Lung Opacity','Enlarged Cardiomediastinum']"
      ],
      "metadata": {
        "id": "rrAJaIdpMgFt"
      },
      "execution_count": 6,
      "outputs": []
    },
    {
      "cell_type": "code",
      "source": [
        "# build a basic browser interface to a Python function\n",
        "frontend = gr.Blocks()\n",
        "\n",
        "with frontend:\n",
        "  gr.Markdown(\n",
        "    \"\"\"\n",
        "    # X-Ray Diagnosis\n",
        "    Explore TorchXRayVision model predictions and data using this demo.\n",
        "    \"\"\"\n",
        "    )\n",
        "  #layout\n",
        "  with gr.Tab(\"Prediction\"):\n",
        "    with gr.Row():\n",
        "      with gr.Column():\n",
        "        input_image = gr.Image(label=\"X-ray image\")\n",
        "        select_model = gr.Dropdown(label=\"Select model\", choices=model_choices)\n",
        "        with gr.Row():\n",
        "          submit_button = gr.Button(\"Submit\")\n",
        "        gr.Examples([\"16747_3_1.jpg\"], inputs=input_image)\n",
        "\n",
        "      with gr.Column():\n",
        "        label = gr.Label(label=\"Multiclass predictions\")\n",
        "\n",
        "  submit_button.click(predict, [input_image, select_model], label) \n",
        "\n",
        "  with gr.Tab(\"Explanation\"):\n",
        "\n",
        "    with gr.Row():\n",
        "      with gr.Column():\n",
        "        select_target = gr.Dropdown(label=\"Select target\", choices=target_choices)\n",
        "        with gr.Row(equal_height=True):\n",
        "          with gr.Column():\n",
        "            with gr.Tab(\"Im...\"):\n",
        "              original_image = gr.Image(label='Original', interactive=False)\n",
        "          with gr.Column():\n",
        "            with gr.Tab(\"Gra...\"):\n",
        "              gradient_plot = gr.Plot(label=\"Gradient\")\n",
        "            with gr.Tab(\"XGr...\"):\n",
        "              input_x_gradient_plot = gr.Plot(label='InputXGradient')\n",
        "            with gr.Tab(\"Int...\"):\n",
        "              integrated_gradients_plot = gr.Plot(label=\"IntegratedGradients\")\n",
        "            with gr.Tab(\"Gif...\"):\n",
        "              gifsplanation_vid = gr.Video(label=\"Gifsplanation\")\n",
        "          \n",
        "  input_image.change(lambda s: s, inputs=input_image, outputs=original_image)\n",
        "  select_target.change(explain_gradient, inputs=[input_image,select_model, select_target], outputs=gradient_plot)\n",
        "  select_target.change(explain_input_x_gradient, inputs=[input_image,select_model, select_target], outputs=input_x_gradient_plot)\n",
        "  select_target.change(explain_integrated_gradients, inputs=[input_image,select_model, select_target], outputs=integrated_gradients_plot)\n",
        "  select_target.change(explain_gifsplanation, inputs=[input_image,select_model, select_target], outputs=gifsplanation_vid)\n",
        "\n",
        "frontend.launch(share=True, show_error=True)"
      ],
      "metadata": {
        "colab": {
          "base_uri": "https://localhost:8080/",
          "height": 645
        },
        "id": "FgaSMp450Orq",
        "outputId": "3673f5c4-d19f-4cb7-b5ee-283e02b8eb81"
      },
      "execution_count": 23,
      "outputs": [
        {
          "output_type": "stream",
          "name": "stdout",
          "text": [
            "Colab notebook detected. To show errors in colab notebook, set `debug=True` in `launch()`\n",
            "Running on public URL: https://11397.gradio.app\n",
            "\n",
            "This share link expires in 72 hours. For free permanent hosting, check out Spaces: https://huggingface.co/spaces\n"
          ]
        },
        {
          "output_type": "display_data",
          "data": {
            "text/plain": [
              "<IPython.core.display.HTML object>"
            ],
            "text/html": [
              "<div><iframe src=\"https://11397.gradio.app\" width=\"900\" height=\"500\" allow=\"autoplay; camera; microphone; clipboard-read; clipboard-write;\" frameborder=\"0\" allowfullscreen></iframe></div>"
            ]
          },
          "metadata": {}
        },
        {
          "output_type": "execute_result",
          "data": {
            "text/plain": [
              "(<gradio.routes.App at 0x7fe10e852850>,\n",
              " 'http://127.0.0.1:7860/',\n",
              " 'https://11397.gradio.app')"
            ]
          },
          "metadata": {},
          "execution_count": 23
        }
      ]
    },
    {
      "cell_type": "code",
      "source": [
        "frontend.close()"
      ],
      "metadata": {
        "colab": {
          "base_uri": "https://localhost:8080/"
        },
        "id": "DtmSE-lZuDWp",
        "outputId": "2fed6a81-29f1-44ba-cc14-266ac7c17cc7"
      },
      "execution_count": 24,
      "outputs": [
        {
          "output_type": "stream",
          "name": "stdout",
          "text": [
            "Closing server running on port: 7860\n"
          ]
        }
      ]
    },
    {
      "cell_type": "code",
      "source": [],
      "metadata": {
        "id": "mZCfpfGq942W"
      },
      "execution_count": null,
      "outputs": []
    }
  ]
}