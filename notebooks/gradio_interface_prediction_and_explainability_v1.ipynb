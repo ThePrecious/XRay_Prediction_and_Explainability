{
 "cells": [
  {
   "cell_type": "markdown",
   "metadata": {
    "id": "LgCVpNOeJei_"
   },
   "source": [
    "In this demo file, we investigate methods for explainability in medical imaging using pre-trained TorchXRayVision models ( https://github.com/mlmed/torchxrayvision )."
   ]
  },
  {
   "cell_type": "markdown",
   "metadata": {
    "id": "H-y0MPKAKMPZ"
   },
   "source": [
    "# Setup"
   ]
  },
  {
   "cell_type": "code",
   "execution_count": 1,
   "metadata": {
    "colab": {
     "base_uri": "https://localhost:8080/"
    },
    "id": "k5j6PvInJdZn",
    "outputId": "a72277af-aa22-47bf-8a5c-ae95b451b067"
   },
   "outputs": [
    {
     "name": "stdout",
     "output_type": "stream",
     "text": [
      "Requirement already satisfied: torchxrayvision in /opt/miniconda3/envs/RL/lib/python3.10/site-packages (0.0.38)\n",
      "Requirement already satisfied: captum in /opt/miniconda3/envs/RL/lib/python3.10/site-packages (0.5.0)\n",
      "Requirement already satisfied: gradio in /opt/miniconda3/envs/RL/lib/python3.10/site-packages (3.3.1)\n",
      "Requirement already satisfied: pandas>=1 in /opt/miniconda3/envs/RL/lib/python3.10/site-packages (from torchxrayvision) (1.4.2)\n",
      "Requirement already satisfied: scikit-image>=0.16 in /opt/miniconda3/envs/RL/lib/python3.10/site-packages (from torchxrayvision) (0.19.3)\n",
      "Requirement already satisfied: pillow>=5.3.0 in /opt/miniconda3/envs/RL/lib/python3.10/site-packages (from torchxrayvision) (9.0.1)\n",
      "Requirement already satisfied: tqdm>=4 in /opt/miniconda3/envs/RL/lib/python3.10/site-packages (from torchxrayvision) (4.64.0)\n",
      "Requirement already satisfied: requests>=1 in /opt/miniconda3/envs/RL/lib/python3.10/site-packages (from torchxrayvision) (2.27.1)\n",
      "Requirement already satisfied: torchvision>=0.5 in /opt/miniconda3/envs/RL/lib/python3.10/site-packages (from torchxrayvision) (0.13.0)\n",
      "Requirement already satisfied: torch>=1 in /opt/miniconda3/envs/RL/lib/python3.10/site-packages (from torchxrayvision) (1.12.0)\n",
      "Requirement already satisfied: numpy>=1 in /opt/miniconda3/envs/RL/lib/python3.10/site-packages (from torchxrayvision) (1.22.4)\n",
      "Requirement already satisfied: matplotlib in /opt/miniconda3/envs/RL/lib/python3.10/site-packages (from captum) (3.5.1)\n",
      "Requirement already satisfied: aiohttp in /opt/miniconda3/envs/RL/lib/python3.10/site-packages (from gradio) (3.8.1)\n",
      "Requirement already satisfied: orjson in /opt/miniconda3/envs/RL/lib/python3.10/site-packages (from gradio) (3.8.0)\n",
      "Requirement already satisfied: uvicorn in /opt/miniconda3/envs/RL/lib/python3.10/site-packages (from gradio) (0.18.3)\n",
      "Requirement already satisfied: pydantic in /opt/miniconda3/envs/RL/lib/python3.10/site-packages (from gradio) (1.8.2)\n",
      "Requirement already satisfied: jinja2 in /opt/miniconda3/envs/RL/lib/python3.10/site-packages (from gradio) (3.1.2)\n",
      "Requirement already satisfied: pycryptodome in /opt/miniconda3/envs/RL/lib/python3.10/site-packages (from gradio) (3.15.0)\n",
      "Requirement already satisfied: h11<0.13,>=0.11 in /opt/miniconda3/envs/RL/lib/python3.10/site-packages (from gradio) (0.12.0)\n",
      "Requirement already satisfied: pyyaml in /opt/miniconda3/envs/RL/lib/python3.10/site-packages (from gradio) (6.0)\n",
      "Requirement already satisfied: pydub in /opt/miniconda3/envs/RL/lib/python3.10/site-packages (from gradio) (0.25.1)\n",
      "Requirement already satisfied: markdown-it-py[linkify,plugins] in /opt/miniconda3/envs/RL/lib/python3.10/site-packages (from gradio) (2.1.0)\n",
      "Requirement already satisfied: httpx in /opt/miniconda3/envs/RL/lib/python3.10/site-packages (from gradio) (0.23.0)\n",
      "Requirement already satisfied: fastapi in /opt/miniconda3/envs/RL/lib/python3.10/site-packages (from gradio) (0.85.0)\n",
      "Requirement already satisfied: paramiko in /opt/miniconda3/envs/RL/lib/python3.10/site-packages (from gradio) (2.11.0)\n",
      "Requirement already satisfied: websockets in /opt/miniconda3/envs/RL/lib/python3.10/site-packages (from gradio) (10.3)\n",
      "Requirement already satisfied: ffmpy in /opt/miniconda3/envs/RL/lib/python3.10/site-packages (from gradio) (0.3.0)\n",
      "Requirement already satisfied: python-multipart in /opt/miniconda3/envs/RL/lib/python3.10/site-packages (from gradio) (0.0.5)\n",
      "Requirement already satisfied: analytics-python in /opt/miniconda3/envs/RL/lib/python3.10/site-packages (from gradio) (1.4.0)\n",
      "Requirement already satisfied: fsspec in /opt/miniconda3/envs/RL/lib/python3.10/site-packages (from gradio) (2022.3.0)\n",
      "Requirement already satisfied: python-dateutil>=2.8.1 in /opt/miniconda3/envs/RL/lib/python3.10/site-packages (from pandas>=1->torchxrayvision) (2.8.2)\n",
      "Requirement already satisfied: pytz>=2020.1 in /opt/miniconda3/envs/RL/lib/python3.10/site-packages (from pandas>=1->torchxrayvision) (2021.3)\n",
      "Requirement already satisfied: charset-normalizer~=2.0.0 in /opt/miniconda3/envs/RL/lib/python3.10/site-packages (from requests>=1->torchxrayvision) (2.0.12)\n",
      "Requirement already satisfied: idna<4,>=2.5 in /opt/miniconda3/envs/RL/lib/python3.10/site-packages (from requests>=1->torchxrayvision) (3.3)\n",
      "Requirement already satisfied: certifi>=2017.4.17 in /opt/miniconda3/envs/RL/lib/python3.10/site-packages (from requests>=1->torchxrayvision) (2022.6.15)\n",
      "Requirement already satisfied: urllib3<1.27,>=1.21.1 in /opt/miniconda3/envs/RL/lib/python3.10/site-packages (from requests>=1->torchxrayvision) (1.26.9)\n",
      "Requirement already satisfied: scipy>=1.4.1 in /opt/miniconda3/envs/RL/lib/python3.10/site-packages (from scikit-image>=0.16->torchxrayvision) (1.8.1)\n",
      "Requirement already satisfied: tifffile>=2019.7.26 in /opt/miniconda3/envs/RL/lib/python3.10/site-packages (from scikit-image>=0.16->torchxrayvision) (2022.8.12)\n",
      "Requirement already satisfied: PyWavelets>=1.1.1 in /opt/miniconda3/envs/RL/lib/python3.10/site-packages (from scikit-image>=0.16->torchxrayvision) (1.4.1)\n",
      "Requirement already satisfied: packaging>=20.0 in /opt/miniconda3/envs/RL/lib/python3.10/site-packages (from scikit-image>=0.16->torchxrayvision) (21.3)\n",
      "Requirement already satisfied: networkx>=2.2 in /opt/miniconda3/envs/RL/lib/python3.10/site-packages (from scikit-image>=0.16->torchxrayvision) (2.8.6)\n",
      "Requirement already satisfied: imageio>=2.4.1 in /opt/miniconda3/envs/RL/lib/python3.10/site-packages (from scikit-image>=0.16->torchxrayvision) (2.21.3)\n",
      "Requirement already satisfied: typing-extensions in /opt/miniconda3/envs/RL/lib/python3.10/site-packages (from torch>=1->torchxrayvision) (4.2.0)\n",
      "Requirement already satisfied: aiosignal>=1.1.2 in /opt/miniconda3/envs/RL/lib/python3.10/site-packages (from aiohttp->gradio) (1.2.0)\n",
      "Requirement already satisfied: multidict<7.0,>=4.5 in /opt/miniconda3/envs/RL/lib/python3.10/site-packages (from aiohttp->gradio) (6.0.2)\n",
      "Requirement already satisfied: yarl<2.0,>=1.0 in /opt/miniconda3/envs/RL/lib/python3.10/site-packages (from aiohttp->gradio) (1.7.2)\n",
      "Requirement already satisfied: attrs>=17.3.0 in /opt/miniconda3/envs/RL/lib/python3.10/site-packages (from aiohttp->gradio) (21.4.0)\n",
      "Requirement already satisfied: async-timeout<5.0,>=4.0.0a3 in /opt/miniconda3/envs/RL/lib/python3.10/site-packages (from aiohttp->gradio) (4.0.2)\n",
      "Requirement already satisfied: frozenlist>=1.1.1 in /opt/miniconda3/envs/RL/lib/python3.10/site-packages (from aiohttp->gradio) (1.3.0)\n",
      "Requirement already satisfied: monotonic>=1.5 in /opt/miniconda3/envs/RL/lib/python3.10/site-packages (from analytics-python->gradio) (1.6)\n",
      "Requirement already satisfied: backoff==1.10.0 in /opt/miniconda3/envs/RL/lib/python3.10/site-packages (from analytics-python->gradio) (1.10.0)\n",
      "Requirement already satisfied: six>=1.5 in /opt/miniconda3/envs/RL/lib/python3.10/site-packages (from analytics-python->gradio) (1.16.0)\n",
      "Requirement already satisfied: starlette==0.20.4 in /opt/miniconda3/envs/RL/lib/python3.10/site-packages (from fastapi->gradio) (0.20.4)\n",
      "Requirement already satisfied: anyio<5,>=3.4.0 in /opt/miniconda3/envs/RL/lib/python3.10/site-packages (from starlette==0.20.4->fastapi->gradio) (3.6.1)\n",
      "Requirement already satisfied: sniffio in /opt/miniconda3/envs/RL/lib/python3.10/site-packages (from httpx->gradio) (1.2.0)\n",
      "Requirement already satisfied: httpcore<0.16.0,>=0.15.0 in /opt/miniconda3/envs/RL/lib/python3.10/site-packages (from httpx->gradio) (0.15.0)\n",
      "Requirement already satisfied: rfc3986[idna2008]<2,>=1.3 in /opt/miniconda3/envs/RL/lib/python3.10/site-packages (from httpx->gradio) (1.5.0)\n",
      "Requirement already satisfied: MarkupSafe>=2.0 in /opt/miniconda3/envs/RL/lib/python3.10/site-packages (from jinja2->gradio) (2.1.1)\n",
      "Requirement already satisfied: mdurl~=0.1 in /opt/miniconda3/envs/RL/lib/python3.10/site-packages (from markdown-it-py[linkify,plugins]->gradio) (0.1.2)\n",
      "Requirement already satisfied: linkify-it-py~=1.0 in /opt/miniconda3/envs/RL/lib/python3.10/site-packages (from markdown-it-py[linkify,plugins]->gradio) (1.0.3)\n",
      "Requirement already satisfied: mdit-py-plugins in /opt/miniconda3/envs/RL/lib/python3.10/site-packages (from markdown-it-py[linkify,plugins]->gradio) (0.3.0)\n",
      "Requirement already satisfied: kiwisolver>=1.0.1 in /opt/miniconda3/envs/RL/lib/python3.10/site-packages (from matplotlib->captum) (1.4.2)\n",
      "Requirement already satisfied: cycler>=0.10 in /opt/miniconda3/envs/RL/lib/python3.10/site-packages (from matplotlib->captum) (0.11.0)\n",
      "Requirement already satisfied: pyparsing>=2.2.1 in /opt/miniconda3/envs/RL/lib/python3.10/site-packages (from matplotlib->captum) (3.0.8)\n",
      "Requirement already satisfied: fonttools>=4.22.0 in /opt/miniconda3/envs/RL/lib/python3.10/site-packages (from matplotlib->captum) (4.25.0)\n"
     ]
    },
    {
     "name": "stdout",
     "output_type": "stream",
     "text": [
      "Requirement already satisfied: pynacl>=1.0.1 in /opt/miniconda3/envs/RL/lib/python3.10/site-packages (from paramiko->gradio) (1.5.0)\n",
      "Requirement already satisfied: cryptography>=2.5 in /opt/miniconda3/envs/RL/lib/python3.10/site-packages (from paramiko->gradio) (37.0.1)\n",
      "Requirement already satisfied: bcrypt>=3.1.3 in /opt/miniconda3/envs/RL/lib/python3.10/site-packages (from paramiko->gradio) (4.0.0)\n",
      "Requirement already satisfied: click>=7.0 in /opt/miniconda3/envs/RL/lib/python3.10/site-packages (from uvicorn->gradio) (8.1.3)\n",
      "Requirement already satisfied: cffi>=1.12 in /opt/miniconda3/envs/RL/lib/python3.10/site-packages (from cryptography>=2.5->paramiko->gradio) (1.15.0)\n",
      "Requirement already satisfied: uc-micro-py in /opt/miniconda3/envs/RL/lib/python3.10/site-packages (from linkify-it-py~=1.0->markdown-it-py[linkify,plugins]->gradio) (1.0.1)\n",
      "Requirement already satisfied: pycparser in /opt/miniconda3/envs/RL/lib/python3.10/site-packages (from cffi>=1.12->cryptography>=2.5->paramiko->gradio) (2.21)\n",
      "fatal: destination path 'gifsplanation' already exists and is not an empty directory.\n"
     ]
    },
    {
     "ename": "ImportError",
     "evalue": "dlopen(/opt/miniconda3/envs/RL/lib/python3.10/site-packages/_cffi_backend.cpython-310-darwin.so, 0x0002): Library not loaded: @rpath/libffi.7.dylib\n  Referenced from: /opt/miniconda3/envs/RL/lib/python3.10/site-packages/_cffi_backend.cpython-310-darwin.so\n  Reason: tried: '/opt/miniconda3/envs/RL/lib/libffi.7.dylib' (no such file), '/opt/miniconda3/envs/RL/lib/libffi.7.dylib' (no such file), '/opt/miniconda3/envs/RL/lib/python3.10/site-packages/../../libffi.7.dylib' (no such file), '/opt/miniconda3/envs/RL/lib/libffi.7.dylib' (no such file), '/opt/miniconda3/envs/RL/lib/libffi.7.dylib' (no such file), '/opt/miniconda3/envs/RL/lib/python3.10/site-packages/../../libffi.7.dylib' (no such file), '/opt/miniconda3/envs/RL/bin/../lib/libffi.7.dylib' (no such file), '/opt/miniconda3/envs/RL/bin/../lib/libffi.7.dylib' (no such file), '/usr/local/lib/libffi.7.dylib' (no such file), '/usr/lib/libffi.7.dylib' (no such file)",
     "output_type": "error",
     "traceback": [
      "\u001b[0;31m---------------------------------------------------------------------------\u001b[0m",
      "\u001b[0;31mImportError\u001b[0m                               Traceback (most recent call last)",
      "Input \u001b[0;32mIn [1]\u001b[0m, in \u001b[0;36m<cell line: 7>\u001b[0;34m()\u001b[0m\n\u001b[1;32m      4\u001b[0m \u001b[38;5;28;01mfrom\u001b[39;00m \u001b[38;5;21;01mpathlib\u001b[39;00m \u001b[38;5;28;01mimport\u001b[39;00m Path\n\u001b[1;32m      5\u001b[0m \u001b[38;5;28;01mfrom\u001b[39;00m \u001b[38;5;21;01mtyping\u001b[39;00m \u001b[38;5;28;01mimport\u001b[39;00m Callable\n\u001b[0;32m----> 7\u001b[0m \u001b[38;5;28;01mimport\u001b[39;00m \u001b[38;5;21;01mgradio\u001b[39;00m \u001b[38;5;28;01mas\u001b[39;00m \u001b[38;5;21;01mgr\u001b[39;00m\n\u001b[1;32m      8\u001b[0m \u001b[38;5;28;01mimport\u001b[39;00m \u001b[38;5;21;01mnumpy\u001b[39;00m \u001b[38;5;28;01mas\u001b[39;00m \u001b[38;5;21;01mnp\u001b[39;00m\n\u001b[1;32m      9\u001b[0m \u001b[38;5;28;01mimport\u001b[39;00m \u001b[38;5;21;01mtorchxrayvision\u001b[39;00m \u001b[38;5;28;01mas\u001b[39;00m \u001b[38;5;21;01mxrv\u001b[39;00m\n",
      "File \u001b[0;32m/opt/miniconda3/envs/RL/lib/python3.10/site-packages/gradio/__init__.py:3\u001b[0m, in \u001b[0;36m<module>\u001b[0;34m\u001b[0m\n\u001b[1;32m      1\u001b[0m \u001b[38;5;28;01mimport\u001b[39;00m \u001b[38;5;21;01mpkgutil\u001b[39;00m\n\u001b[0;32m----> 3\u001b[0m \u001b[38;5;28;01mimport\u001b[39;00m \u001b[38;5;21;01mgradio\u001b[39;00m\u001b[38;5;21;01m.\u001b[39;00m\u001b[38;5;21;01mcomponents\u001b[39;00m \u001b[38;5;28;01mas\u001b[39;00m \u001b[38;5;21;01mcomponents\u001b[39;00m\n\u001b[1;32m      4\u001b[0m \u001b[38;5;28;01mimport\u001b[39;00m \u001b[38;5;21;01mgradio\u001b[39;00m\u001b[38;5;21;01m.\u001b[39;00m\u001b[38;5;21;01minputs\u001b[39;00m \u001b[38;5;28;01mas\u001b[39;00m \u001b[38;5;21;01minputs\u001b[39;00m\n\u001b[1;32m      5\u001b[0m \u001b[38;5;28;01mimport\u001b[39;00m \u001b[38;5;21;01mgradio\u001b[39;00m\u001b[38;5;21;01m.\u001b[39;00m\u001b[38;5;21;01moutputs\u001b[39;00m \u001b[38;5;28;01mas\u001b[39;00m \u001b[38;5;21;01moutputs\u001b[39;00m\n",
      "File \u001b[0;32m/opt/miniconda3/envs/RL/lib/python3.10/site-packages/gradio/components.py:39\u001b[0m, in \u001b[0;36m<module>\u001b[0;34m\u001b[0m\n\u001b[1;32m     36\u001b[0m \u001b[38;5;28;01mfrom\u001b[39;00m \u001b[38;5;21;01mmarkdown_it\u001b[39;00m \u001b[38;5;28;01mimport\u001b[39;00m MarkdownIt\n\u001b[1;32m     38\u001b[0m \u001b[38;5;28;01mfrom\u001b[39;00m \u001b[38;5;21;01mgradio\u001b[39;00m \u001b[38;5;28;01mimport\u001b[39;00m media_data, processing_utils, utils\n\u001b[0;32m---> 39\u001b[0m \u001b[38;5;28;01mfrom\u001b[39;00m \u001b[38;5;21;01mgradio\u001b[39;00m\u001b[38;5;21;01m.\u001b[39;00m\u001b[38;5;21;01mblocks\u001b[39;00m \u001b[38;5;28;01mimport\u001b[39;00m Block\n\u001b[1;32m     40\u001b[0m \u001b[38;5;28;01mfrom\u001b[39;00m \u001b[38;5;21;01mgradio\u001b[39;00m\u001b[38;5;21;01m.\u001b[39;00m\u001b[38;5;21;01mdocumentation\u001b[39;00m \u001b[38;5;28;01mimport\u001b[39;00m document, set_documentation_group\n\u001b[1;32m     41\u001b[0m \u001b[38;5;28;01mfrom\u001b[39;00m \u001b[38;5;21;01mgradio\u001b[39;00m\u001b[38;5;21;01m.\u001b[39;00m\u001b[38;5;21;01mevents\u001b[39;00m \u001b[38;5;28;01mimport\u001b[39;00m (\n\u001b[1;32m     42\u001b[0m     Changeable,\n\u001b[1;32m     43\u001b[0m     Clearable,\n\u001b[0;32m   (...)\u001b[0m\n\u001b[1;32m     48\u001b[0m     Submittable,\n\u001b[1;32m     49\u001b[0m )\n",
      "File \u001b[0;32m/opt/miniconda3/envs/RL/lib/python3.10/site-packages/gradio/blocks.py:20\u001b[0m, in \u001b[0;36m<module>\u001b[0;34m\u001b[0m\n\u001b[1;32m     17\u001b[0m \u001b[38;5;28;01mimport\u001b[39;00m \u001b[38;5;21;01mrequests\u001b[39;00m\n\u001b[1;32m     18\u001b[0m \u001b[38;5;28;01mfrom\u001b[39;00m \u001b[38;5;21;01manyio\u001b[39;00m \u001b[38;5;28;01mimport\u001b[39;00m CapacityLimiter\n\u001b[0;32m---> 20\u001b[0m \u001b[38;5;28;01mfrom\u001b[39;00m \u001b[38;5;21;01mgradio\u001b[39;00m \u001b[38;5;28;01mimport\u001b[39;00m (\n\u001b[1;32m     21\u001b[0m     components,\n\u001b[1;32m     22\u001b[0m     encryptor,\n\u001b[1;32m     23\u001b[0m     external,\n\u001b[1;32m     24\u001b[0m     networking,\n\u001b[1;32m     25\u001b[0m     queue,\n\u001b[1;32m     26\u001b[0m     routes,\n\u001b[1;32m     27\u001b[0m     strings,\n\u001b[1;32m     28\u001b[0m     utils,\n\u001b[1;32m     29\u001b[0m )\n\u001b[1;32m     30\u001b[0m \u001b[38;5;28;01mfrom\u001b[39;00m \u001b[38;5;21;01mgradio\u001b[39;00m\u001b[38;5;21;01m.\u001b[39;00m\u001b[38;5;21;01mcontext\u001b[39;00m \u001b[38;5;28;01mimport\u001b[39;00m Context\n\u001b[1;32m     31\u001b[0m \u001b[38;5;28;01mfrom\u001b[39;00m \u001b[38;5;21;01mgradio\u001b[39;00m\u001b[38;5;21;01m.\u001b[39;00m\u001b[38;5;21;01mdeprecation\u001b[39;00m \u001b[38;5;28;01mimport\u001b[39;00m check_deprecated_parameters\n",
      "File \u001b[0;32m/opt/miniconda3/envs/RL/lib/python3.10/site-packages/gradio/networking.py:19\u001b[0m, in \u001b[0;36m<module>\u001b[0;34m\u001b[0m\n\u001b[1;32m     16\u001b[0m \u001b[38;5;28;01mimport\u001b[39;00m \u001b[38;5;21;01muvicorn\u001b[39;00m\n\u001b[1;32m     18\u001b[0m \u001b[38;5;28;01mfrom\u001b[39;00m \u001b[38;5;21;01mgradio\u001b[39;00m\u001b[38;5;21;01m.\u001b[39;00m\u001b[38;5;21;01mroutes\u001b[39;00m \u001b[38;5;28;01mimport\u001b[39;00m App\n\u001b[0;32m---> 19\u001b[0m \u001b[38;5;28;01mfrom\u001b[39;00m \u001b[38;5;21;01mgradio\u001b[39;00m\u001b[38;5;21;01m.\u001b[39;00m\u001b[38;5;21;01mtunneling\u001b[39;00m \u001b[38;5;28;01mimport\u001b[39;00m create_tunnel\n\u001b[1;32m     21\u001b[0m \u001b[38;5;28;01mif\u001b[39;00m TYPE_CHECKING:  \u001b[38;5;66;03m# Only import for type checking (to avoid circular imports).\u001b[39;00m\n\u001b[1;32m     22\u001b[0m     \u001b[38;5;28;01mfrom\u001b[39;00m \u001b[38;5;21;01mgradio\u001b[39;00m\u001b[38;5;21;01m.\u001b[39;00m\u001b[38;5;21;01mblocks\u001b[39;00m \u001b[38;5;28;01mimport\u001b[39;00m Blocks\n",
      "File \u001b[0;32m/opt/miniconda3/envs/RL/lib/python3.10/site-packages/gradio/tunneling.py:17\u001b[0m, in \u001b[0;36m<module>\u001b[0;34m\u001b[0m\n\u001b[1;32m     15\u001b[0m \u001b[38;5;28;01mwith\u001b[39;00m warnings\u001b[38;5;241m.\u001b[39mcatch_warnings():\n\u001b[1;32m     16\u001b[0m     warnings\u001b[38;5;241m.\u001b[39mfilterwarnings(\u001b[38;5;124m\"\u001b[39m\u001b[38;5;124mignore\u001b[39m\u001b[38;5;124m\"\u001b[39m, category\u001b[38;5;241m=\u001b[39mCryptographyDeprecationWarning)\n\u001b[0;32m---> 17\u001b[0m     \u001b[38;5;28;01mimport\u001b[39;00m \u001b[38;5;21;01mparamiko\u001b[39;00m\n\u001b[1;32m     20\u001b[0m \u001b[38;5;28;01mdef\u001b[39;00m \u001b[38;5;21mhandler\u001b[39m(chan, host, port):\n\u001b[1;32m     21\u001b[0m     sock \u001b[38;5;241m=\u001b[39m socket\u001b[38;5;241m.\u001b[39msocket()\n",
      "File \u001b[0;32m/opt/miniconda3/envs/RL/lib/python3.10/site-packages/paramiko/__init__.py:22\u001b[0m, in \u001b[0;36m<module>\u001b[0;34m\u001b[0m\n\u001b[1;32m     20\u001b[0m \u001b[38;5;28;01mimport\u001b[39;00m \u001b[38;5;21;01msys\u001b[39;00m\n\u001b[1;32m     21\u001b[0m \u001b[38;5;28;01mfrom\u001b[39;00m \u001b[38;5;21;01mparamiko\u001b[39;00m\u001b[38;5;21;01m.\u001b[39;00m\u001b[38;5;21;01m_version\u001b[39;00m \u001b[38;5;28;01mimport\u001b[39;00m __version__, __version_info__\n\u001b[0;32m---> 22\u001b[0m \u001b[38;5;28;01mfrom\u001b[39;00m \u001b[38;5;21;01mparamiko\u001b[39;00m\u001b[38;5;21;01m.\u001b[39;00m\u001b[38;5;21;01mtransport\u001b[39;00m \u001b[38;5;28;01mimport\u001b[39;00m SecurityOptions, Transport\n\u001b[1;32m     23\u001b[0m \u001b[38;5;28;01mfrom\u001b[39;00m \u001b[38;5;21;01mparamiko\u001b[39;00m\u001b[38;5;21;01m.\u001b[39;00m\u001b[38;5;21;01mclient\u001b[39;00m \u001b[38;5;28;01mimport\u001b[39;00m (\n\u001b[1;32m     24\u001b[0m     SSHClient,\n\u001b[1;32m     25\u001b[0m     MissingHostKeyPolicy,\n\u001b[0;32m   (...)\u001b[0m\n\u001b[1;32m     28\u001b[0m     WarningPolicy,\n\u001b[1;32m     29\u001b[0m )\n\u001b[1;32m     30\u001b[0m \u001b[38;5;28;01mfrom\u001b[39;00m \u001b[38;5;21;01mparamiko\u001b[39;00m\u001b[38;5;21;01m.\u001b[39;00m\u001b[38;5;21;01mauth_handler\u001b[39;00m \u001b[38;5;28;01mimport\u001b[39;00m AuthHandler\n",
      "File \u001b[0;32m/opt/miniconda3/envs/RL/lib/python3.10/site-packages/paramiko/transport.py:92\u001b[0m, in \u001b[0;36m<module>\u001b[0;34m\u001b[0m\n\u001b[1;32m     90\u001b[0m \u001b[38;5;28;01mfrom\u001b[39;00m \u001b[38;5;21;01mparamiko\u001b[39;00m\u001b[38;5;21;01m.\u001b[39;00m\u001b[38;5;21;01mcompress\u001b[39;00m \u001b[38;5;28;01mimport\u001b[39;00m ZlibCompressor, ZlibDecompressor\n\u001b[1;32m     91\u001b[0m \u001b[38;5;28;01mfrom\u001b[39;00m \u001b[38;5;21;01mparamiko\u001b[39;00m\u001b[38;5;21;01m.\u001b[39;00m\u001b[38;5;21;01mdsskey\u001b[39;00m \u001b[38;5;28;01mimport\u001b[39;00m DSSKey\n\u001b[0;32m---> 92\u001b[0m \u001b[38;5;28;01mfrom\u001b[39;00m \u001b[38;5;21;01mparamiko\u001b[39;00m\u001b[38;5;21;01m.\u001b[39;00m\u001b[38;5;21;01med25519key\u001b[39;00m \u001b[38;5;28;01mimport\u001b[39;00m Ed25519Key\n\u001b[1;32m     93\u001b[0m \u001b[38;5;28;01mfrom\u001b[39;00m \u001b[38;5;21;01mparamiko\u001b[39;00m\u001b[38;5;21;01m.\u001b[39;00m\u001b[38;5;21;01mkex_curve25519\u001b[39;00m \u001b[38;5;28;01mimport\u001b[39;00m KexCurve25519\n\u001b[1;32m     94\u001b[0m \u001b[38;5;28;01mfrom\u001b[39;00m \u001b[38;5;21;01mparamiko\u001b[39;00m\u001b[38;5;21;01m.\u001b[39;00m\u001b[38;5;21;01mkex_gex\u001b[39;00m \u001b[38;5;28;01mimport\u001b[39;00m KexGex, KexGexSHA256\n",
      "File \u001b[0;32m/opt/miniconda3/envs/RL/lib/python3.10/site-packages/paramiko/ed25519key.py:22\u001b[0m, in \u001b[0;36m<module>\u001b[0;34m\u001b[0m\n\u001b[1;32m     19\u001b[0m \u001b[38;5;28;01mfrom\u001b[39;00m \u001b[38;5;21;01mcryptography\u001b[39;00m\u001b[38;5;21;01m.\u001b[39;00m\u001b[38;5;21;01mhazmat\u001b[39;00m\u001b[38;5;21;01m.\u001b[39;00m\u001b[38;5;21;01mbackends\u001b[39;00m \u001b[38;5;28;01mimport\u001b[39;00m default_backend\n\u001b[1;32m     20\u001b[0m \u001b[38;5;28;01mfrom\u001b[39;00m \u001b[38;5;21;01mcryptography\u001b[39;00m\u001b[38;5;21;01m.\u001b[39;00m\u001b[38;5;21;01mhazmat\u001b[39;00m\u001b[38;5;21;01m.\u001b[39;00m\u001b[38;5;21;01mprimitives\u001b[39;00m\u001b[38;5;21;01m.\u001b[39;00m\u001b[38;5;21;01mciphers\u001b[39;00m \u001b[38;5;28;01mimport\u001b[39;00m Cipher\n\u001b[0;32m---> 22\u001b[0m \u001b[38;5;28;01mimport\u001b[39;00m \u001b[38;5;21;01mnacl\u001b[39;00m\u001b[38;5;21;01m.\u001b[39;00m\u001b[38;5;21;01msigning\u001b[39;00m\n\u001b[1;32m     24\u001b[0m \u001b[38;5;28;01mfrom\u001b[39;00m \u001b[38;5;21;01mparamiko\u001b[39;00m\u001b[38;5;21;01m.\u001b[39;00m\u001b[38;5;21;01mmessage\u001b[39;00m \u001b[38;5;28;01mimport\u001b[39;00m Message\n\u001b[1;32m     25\u001b[0m \u001b[38;5;28;01mfrom\u001b[39;00m \u001b[38;5;21;01mparamiko\u001b[39;00m\u001b[38;5;21;01m.\u001b[39;00m\u001b[38;5;21;01mpkey\u001b[39;00m \u001b[38;5;28;01mimport\u001b[39;00m PKey, OPENSSH_AUTH_MAGIC, _unpad_openssh\n",
      "File \u001b[0;32m/opt/miniconda3/envs/RL/lib/python3.10/site-packages/nacl/signing.py:16\u001b[0m, in \u001b[0;36m<module>\u001b[0;34m\u001b[0m\n\u001b[1;32m      1\u001b[0m \u001b[38;5;66;03m# Copyright 2013 Donald Stufft and individual contributors\u001b[39;00m\n\u001b[1;32m      2\u001b[0m \u001b[38;5;66;03m#\u001b[39;00m\n\u001b[1;32m      3\u001b[0m \u001b[38;5;66;03m# Licensed under the Apache License, Version 2.0 (the \"License\");\u001b[39;00m\n\u001b[0;32m   (...)\u001b[0m\n\u001b[1;32m     12\u001b[0m \u001b[38;5;66;03m# See the License for the specific language governing permissions and\u001b[39;00m\n\u001b[1;32m     13\u001b[0m \u001b[38;5;66;03m# limitations under the License.\u001b[39;00m\n\u001b[1;32m     14\u001b[0m \u001b[38;5;28;01mfrom\u001b[39;00m \u001b[38;5;21;01mtyping\u001b[39;00m \u001b[38;5;28;01mimport\u001b[39;00m Optional\n\u001b[0;32m---> 16\u001b[0m \u001b[38;5;28;01mimport\u001b[39;00m \u001b[38;5;21;01mnacl\u001b[39;00m\u001b[38;5;21;01m.\u001b[39;00m\u001b[38;5;21;01mbindings\u001b[39;00m\n\u001b[1;32m     17\u001b[0m \u001b[38;5;28;01mfrom\u001b[39;00m \u001b[38;5;21;01mnacl\u001b[39;00m \u001b[38;5;28;01mimport\u001b[39;00m encoding\n\u001b[1;32m     18\u001b[0m \u001b[38;5;28;01mfrom\u001b[39;00m \u001b[38;5;21;01mnacl\u001b[39;00m \u001b[38;5;28;01mimport\u001b[39;00m exceptions \u001b[38;5;28;01mas\u001b[39;00m exc\n",
      "File \u001b[0;32m/opt/miniconda3/envs/RL/lib/python3.10/site-packages/nacl/bindings/__init__.py:16\u001b[0m, in \u001b[0;36m<module>\u001b[0;34m\u001b[0m\n\u001b[1;32m      1\u001b[0m \u001b[38;5;66;03m# Copyright 2013-2019 Donald Stufft and individual contributors\u001b[39;00m\n\u001b[1;32m      2\u001b[0m \u001b[38;5;66;03m#\u001b[39;00m\n\u001b[1;32m      3\u001b[0m \u001b[38;5;66;03m# Licensed under the Apache License, Version 2.0 (the \"License\");\u001b[39;00m\n\u001b[0;32m   (...)\u001b[0m\n\u001b[1;32m     12\u001b[0m \u001b[38;5;66;03m# See the License for the specific language governing permissions and\u001b[39;00m\n\u001b[1;32m     13\u001b[0m \u001b[38;5;66;03m# limitations under the License.\u001b[39;00m\n\u001b[0;32m---> 16\u001b[0m \u001b[38;5;28;01mfrom\u001b[39;00m \u001b[38;5;21;01mnacl\u001b[39;00m\u001b[38;5;21;01m.\u001b[39;00m\u001b[38;5;21;01mbindings\u001b[39;00m\u001b[38;5;21;01m.\u001b[39;00m\u001b[38;5;21;01mcrypto_aead\u001b[39;00m \u001b[38;5;28;01mimport\u001b[39;00m (\n\u001b[1;32m     17\u001b[0m     crypto_aead_chacha20poly1305_ABYTES,\n\u001b[1;32m     18\u001b[0m     crypto_aead_chacha20poly1305_KEYBYTES,\n\u001b[1;32m     19\u001b[0m     crypto_aead_chacha20poly1305_MESSAGEBYTES_MAX,\n\u001b[1;32m     20\u001b[0m     crypto_aead_chacha20poly1305_NPUBBYTES,\n\u001b[1;32m     21\u001b[0m     crypto_aead_chacha20poly1305_NSECBYTES,\n\u001b[1;32m     22\u001b[0m     crypto_aead_chacha20poly1305_decrypt,\n\u001b[1;32m     23\u001b[0m     crypto_aead_chacha20poly1305_encrypt,\n\u001b[1;32m     24\u001b[0m     crypto_aead_chacha20poly1305_ietf_ABYTES,\n\u001b[1;32m     25\u001b[0m     crypto_aead_chacha20poly1305_ietf_KEYBYTES,\n\u001b[1;32m     26\u001b[0m     crypto_aead_chacha20poly1305_ietf_MESSAGEBYTES_MAX,\n\u001b[1;32m     27\u001b[0m     crypto_aead_chacha20poly1305_ietf_NPUBBYTES,\n\u001b[1;32m     28\u001b[0m     crypto_aead_chacha20poly1305_ietf_NSECBYTES,\n\u001b[1;32m     29\u001b[0m     crypto_aead_chacha20poly1305_ietf_decrypt,\n\u001b[1;32m     30\u001b[0m     crypto_aead_chacha20poly1305_ietf_encrypt,\n\u001b[1;32m     31\u001b[0m     crypto_aead_xchacha20poly1305_ietf_ABYTES,\n\u001b[1;32m     32\u001b[0m     crypto_aead_xchacha20poly1305_ietf_KEYBYTES,\n\u001b[1;32m     33\u001b[0m     crypto_aead_xchacha20poly1305_ietf_MESSAGEBYTES_MAX,\n\u001b[1;32m     34\u001b[0m     crypto_aead_xchacha20poly1305_ietf_NPUBBYTES,\n\u001b[1;32m     35\u001b[0m     crypto_aead_xchacha20poly1305_ietf_NSECBYTES,\n\u001b[1;32m     36\u001b[0m     crypto_aead_xchacha20poly1305_ietf_decrypt,\n\u001b[1;32m     37\u001b[0m     crypto_aead_xchacha20poly1305_ietf_encrypt,\n\u001b[1;32m     38\u001b[0m )\n\u001b[1;32m     39\u001b[0m \u001b[38;5;28;01mfrom\u001b[39;00m \u001b[38;5;21;01mnacl\u001b[39;00m\u001b[38;5;21;01m.\u001b[39;00m\u001b[38;5;21;01mbindings\u001b[39;00m\u001b[38;5;21;01m.\u001b[39;00m\u001b[38;5;21;01mcrypto_box\u001b[39;00m \u001b[38;5;28;01mimport\u001b[39;00m (\n\u001b[1;32m     40\u001b[0m     crypto_box,\n\u001b[1;32m     41\u001b[0m     crypto_box_BEFORENMBYTES,\n\u001b[0;32m   (...)\u001b[0m\n\u001b[1;32m     56\u001b[0m     crypto_box_seed_keypair,\n\u001b[1;32m     57\u001b[0m )\n\u001b[1;32m     58\u001b[0m \u001b[38;5;28;01mfrom\u001b[39;00m \u001b[38;5;21;01mnacl\u001b[39;00m\u001b[38;5;21;01m.\u001b[39;00m\u001b[38;5;21;01mbindings\u001b[39;00m\u001b[38;5;21;01m.\u001b[39;00m\u001b[38;5;21;01mcrypto_core\u001b[39;00m \u001b[38;5;28;01mimport\u001b[39;00m (\n\u001b[1;32m     59\u001b[0m     crypto_core_ed25519_BYTES,\n\u001b[1;32m     60\u001b[0m     crypto_core_ed25519_NONREDUCEDSCALARBYTES,\n\u001b[0;32m   (...)\u001b[0m\n\u001b[1;32m     72\u001b[0m     has_crypto_core_ed25519,\n\u001b[1;32m     73\u001b[0m )\n",
      "File \u001b[0;32m/opt/miniconda3/envs/RL/lib/python3.10/site-packages/nacl/bindings/crypto_aead.py:17\u001b[0m, in \u001b[0;36m<module>\u001b[0;34m\u001b[0m\n\u001b[1;32m     14\u001b[0m \u001b[38;5;28;01mfrom\u001b[39;00m \u001b[38;5;21;01mtyping\u001b[39;00m \u001b[38;5;28;01mimport\u001b[39;00m Optional\n\u001b[1;32m     16\u001b[0m \u001b[38;5;28;01mfrom\u001b[39;00m \u001b[38;5;21;01mnacl\u001b[39;00m \u001b[38;5;28;01mimport\u001b[39;00m exceptions \u001b[38;5;28;01mas\u001b[39;00m exc\n\u001b[0;32m---> 17\u001b[0m \u001b[38;5;28;01mfrom\u001b[39;00m \u001b[38;5;21;01mnacl\u001b[39;00m\u001b[38;5;21;01m.\u001b[39;00m\u001b[38;5;21;01m_sodium\u001b[39;00m \u001b[38;5;28;01mimport\u001b[39;00m ffi, lib\n\u001b[1;32m     18\u001b[0m \u001b[38;5;28;01mfrom\u001b[39;00m \u001b[38;5;21;01mnacl\u001b[39;00m\u001b[38;5;21;01m.\u001b[39;00m\u001b[38;5;21;01mexceptions\u001b[39;00m \u001b[38;5;28;01mimport\u001b[39;00m ensure\n\u001b[1;32m     20\u001b[0m \u001b[38;5;124;03m\"\"\"\u001b[39;00m\n\u001b[1;32m     21\u001b[0m \u001b[38;5;124;03mImplementations of authenticated encription with associated data (*AEAD*)\u001b[39;00m\n\u001b[1;32m     22\u001b[0m \u001b[38;5;124;03mconstructions building on the chacha20 stream cipher and the poly1305\u001b[39;00m\n\u001b[1;32m     23\u001b[0m \u001b[38;5;124;03mauthenticator\u001b[39;00m\n\u001b[1;32m     24\u001b[0m \u001b[38;5;124;03m\"\"\"\u001b[39;00m\n",
      "\u001b[0;31mImportError\u001b[0m: dlopen(/opt/miniconda3/envs/RL/lib/python3.10/site-packages/_cffi_backend.cpython-310-darwin.so, 0x0002): Library not loaded: @rpath/libffi.7.dylib\n  Referenced from: /opt/miniconda3/envs/RL/lib/python3.10/site-packages/_cffi_backend.cpython-310-darwin.so\n  Reason: tried: '/opt/miniconda3/envs/RL/lib/libffi.7.dylib' (no such file), '/opt/miniconda3/envs/RL/lib/libffi.7.dylib' (no such file), '/opt/miniconda3/envs/RL/lib/python3.10/site-packages/../../libffi.7.dylib' (no such file), '/opt/miniconda3/envs/RL/lib/libffi.7.dylib' (no such file), '/opt/miniconda3/envs/RL/lib/libffi.7.dylib' (no such file), '/opt/miniconda3/envs/RL/lib/python3.10/site-packages/../../libffi.7.dylib' (no such file), '/opt/miniconda3/envs/RL/bin/../lib/libffi.7.dylib' (no such file), '/opt/miniconda3/envs/RL/bin/../lib/libffi.7.dylib' (no such file), '/usr/local/lib/libffi.7.dylib' (no such file), '/usr/lib/libffi.7.dylib' (no such file)"
     ]
    }
   ],
   "source": [
    "!pip install torchxrayvision captum gradio\n",
    "!git clone https://github.com/mlmed/gifsplanation\n",
    "\n",
    "from pathlib import Path\n",
    "from typing import Callable\n",
    "\n",
    "import gradio as gr\n",
    "import numpy as np\n",
    "import torchxrayvision as xrv\n",
    "import skimage, torch, torchvision\n",
    "import matplotlib\n",
    "matplotlib.use('Agg')\n",
    "import matplotlib.pyplot as plt\n",
    "import sys,os\n",
    "sys.path.insert(0,\"./gifsplanation/\")\n",
    "\n",
    "from captum.attr import IntegratedGradients, Saliency, InputXGradient\n",
    "import attribution\n",
    "\n",
    "!wget https://raw.githubusercontent.com/mlmed/torchxrayvision/master/tests/16747_3_1.jpg #download test image"
   ]
  },
  {
   "cell_type": "code",
   "execution_count": null,
   "metadata": {
    "id": "2gC1DVSQrJmG"
   },
   "outputs": [],
   "source": [
    "def make_fig(plot_matrix):\n",
    "    fig = plt.figure(figsize=(20,20))\n",
    "    plt.imshow(plot_matrix, cmap=plt.cm.hot)\n",
    "    #plt.title(plot_title)\n",
    "    ax = plt.gca()\n",
    "    ax.get_xaxis().set_visible(False)\n",
    "    ax.get_yaxis().set_visible(False)\n",
    "\n",
    "    return fig"
   ]
  },
  {
   "cell_type": "code",
   "execution_count": null,
   "metadata": {
    "id": "G2HkZKeO0LiM"
   },
   "outputs": [],
   "source": [
    "def xrv_prepare_image(image):\n",
    "    img = xrv.datasets.normalize(image, 255) # convert 8-bit image to [-1024, 1024] range\n",
    "    img = img.mean(2)[None, ...] # Make single color channel\n",
    "    transform = torchvision.transforms.Compose([xrv.datasets.XRayCenterCrop(),xrv.datasets.XRayResizer(224)])\n",
    "    img = transform(img)\n",
    "    img = torch.from_numpy(img)\n",
    "    \n",
    "    return img[None,...]"
   ]
  },
  {
   "cell_type": "code",
   "execution_count": null,
   "metadata": {
    "id": "ZtD_I2MDWdpZ"
   },
   "outputs": [],
   "source": [
    "def predict(image, model_choice):\n",
    "    \"\"\"Function that serves predictions.\"\"\"\n",
    "    img = xrv_prepare_image(image)\n",
    "    model = xrv.models.DenseNet(weights=model_choice)\n",
    "    model.eval()\n",
    "\n",
    "    outputs = model(img)\n",
    "    scores =  outputs[0].detach().numpy().astype(np.float) #conversion to np.float is needed for visualization with gr.Label\n",
    "    label = dict(zip(model.pathologies, scores) )\n",
    "    return label"
   ]
  },
  {
   "cell_type": "code",
   "execution_count": null,
   "metadata": {
    "id": "_W8gC4hVWigW"
   },
   "outputs": [],
   "source": [
    "def explain_gradient(image, model_choice, target):\n",
    "    \"\"\"Function that serves explanations.\"\"\"\n",
    "    \n",
    "    model = xrv.models.DenseNet(weights=model_choice)\n",
    "    input = xrv_prepare_image(image)\n",
    "    \n",
    "    #Saliency\n",
    "    saliency = Saliency(model)\n",
    "    attr = saliency.attribute(input, target=model.pathologies.index(target))\n",
    "    fig1 = make_fig( np.abs(attr[0,0].numpy()) )\n",
    "\n",
    "    return fig1\n",
    "\n",
    "def explain_input_x_gradient(image, model_choice, target):\n",
    "    \"\"\"Function that serves explanations.\"\"\"\n",
    "    \n",
    "    model = xrv.models.DenseNet(weights=model_choice)\n",
    "    input = xrv_prepare_image(image)\n",
    "    \n",
    "    #InputXGradient\n",
    "    ixg = InputXGradient(model)\n",
    "    attr = ixg.attribute(input, target=model.pathologies.index(target))\n",
    "    fig2 = make_fig( np.abs(attr[0,0].detach().numpy()) ) \n",
    "    return fig2\n",
    "    \n",
    "def explain_integrated_gradients(image, model_choice, target):\n",
    "    \"\"\"Function that serves explanations.\"\"\"\n",
    "    \n",
    "    model = xrv.models.DenseNet(weights=model_choice)\n",
    "    input = xrv_prepare_image(image)\n",
    "    \n",
    "    #IntegratedGradients\n",
    "    ig = IntegratedGradients(model)\n",
    "    attr = ig.attribute(input, target=model.pathologies.index(target))\n",
    "    fig3 = make_fig( np.abs(attr[0,0].detach().numpy()) )\n",
    "    return fig3\n",
    "\n",
    "def explain_gifsplanation(image, model_choice, target):\n",
    "    \"\"\"Function that serves explanations.\"\"\"\n",
    "    \n",
    "    model = xrv.models.DenseNet(weights=model_choice)\n",
    "    input = xrv_prepare_image(image)\n",
    "    \n",
    "    #Gifsplanation\n",
    "    input.requires_grad=False\n",
    "    ae = xrv.autoencoders.ResNetAE(weights=\"101-elastic\")\n",
    "    movie = attribution.generate_video(input, model, target, ae, target_filename=\"test\", border=False, show=False,\n",
    "                        ffmpeg_path=\"ffmpeg\")\n",
    "\n",
    "    return movie"
   ]
  },
  {
   "cell_type": "code",
   "execution_count": null,
   "metadata": {
    "id": "rrAJaIdpMgFt"
   },
   "outputs": [],
   "source": [
    "model_choices = [\"densenet121-res224-all\", \"densenet121-res224-rsna\",\"densenet121-res224-nih\",\"densenet121-res224-pc\",\"densenet121-res224-chex\",\"densenet121-res224-mimic_nb\",\"densenet121-res224-mimic_ch\"]\n",
    "\n",
    "target_choices = ['Atelectasis','Consolidation','Infiltration','Pneumothorax','Edema','Emphysema',\n",
    "                'Fibrosis','Effusion','Pneumonia','Pleural_Thickening','Cardiomegaly','Nodule','Mass',\n",
    "                'Hernia','Lung Lesion','Fracture','Lung Opacity','Enlarged Cardiomediastinum']"
   ]
  },
  {
   "cell_type": "code",
   "execution_count": null,
   "metadata": {
    "colab": {
     "base_uri": "https://localhost:8080/",
     "height": 645
    },
    "id": "FgaSMp450Orq",
    "outputId": "8092805e-e72c-4ba3-b15f-a0901ac0254a"
   },
   "outputs": [],
   "source": [
    "# build a basic browser interface to a Python function\n",
    "frontend = gr.Blocks()\n",
    "\n",
    "with frontend:\n",
    "  gr.Markdown(\n",
    "    \"\"\"\n",
    "    # X-Ray Diagnosis\n",
    "    Explore TorchXRayVision model predictions and data using this demo.\n",
    "    \"\"\"\n",
    "    )\n",
    "  #layout\n",
    "  with gr.Tab(\"Prediction\"):\n",
    "    with gr.Row():\n",
    "      with gr.Column():\n",
    "        input_image = gr.Image(label=\"X-ray image\")\n",
    "        select_model = gr.Dropdown(label=\"Select model\", choices=model_choices)\n",
    "        with gr.Row():\n",
    "          submit_button = gr.Button(\"Submit\")\n",
    "        gr.Examples([\"16747_3_1.jpg\"], inputs=input_image)\n",
    "\n",
    "      with gr.Column():\n",
    "        label = gr.Label(label=\"Multiclass predictions\")\n",
    "\n",
    "  submit_button.click(predict, [input_image, select_model], label) \n",
    "\n",
    "  with gr.Tab(\"Saliency maps\"):\n",
    "\n",
    "    with gr.Row():\n",
    "      with gr.Column():\n",
    "        select_target = gr.Dropdown(label=\"Select target\", choices=target_choices)\n",
    "        with gr.Row():\n",
    "          original_image = gr.Image(label='Original', interactive=False)\n",
    "          gradient_plot = gr.Plot(label=\"Gradient\")\n",
    "        with gr.Row():\n",
    "          input_x_gradient_plot = gr.Plot(label='InputXGradient')\n",
    "          integrated_gradients_plot = gr.Plot(label=\"IntegratedGradients\")\n",
    "\n",
    "  input_image.change(lambda s: s, inputs=input_image, outputs=original_image)\n",
    "  select_target.change(explain_gradient, inputs=[input_image,select_model, select_target], outputs=gradient_plot)\n",
    "  select_target.change(explain_input_x_gradient, inputs=[input_image,select_model, select_target], outputs=input_x_gradient_plot)\n",
    "  select_target.change(explain_integrated_gradients, inputs=[input_image,select_model, select_target], outputs=integrated_gradients_plot)\n",
    "\n",
    "  with gr.Tab(\"Gifsplanation\"):\n",
    "    with gr.Row():\n",
    "      with gr.Column():\n",
    "        select_target2 = gr.Dropdown(label=\"Select target\", choices=target_choices)\n",
    "        with gr.Row():\n",
    "          original_image = gr.Image(label='Original', interactive=False)\n",
    "          gifsplanation_vid = gr.Video(label=\"Gifsplanation\")\n",
    "\n",
    "  input_image.change(lambda s: s, inputs=input_image, outputs=original_image)\n",
    "  select_target2.change(explain_gifsplanation, inputs=[input_image,select_model, select_target2], outputs=gifsplanation_vid)\n",
    "\n",
    "frontend.launch(share=True, show_error=True)"
   ]
  },
  {
   "cell_type": "code",
   "execution_count": null,
   "metadata": {
    "colab": {
     "base_uri": "https://localhost:8080/"
    },
    "id": "DtmSE-lZuDWp",
    "outputId": "be903811-5f31-47f2-c90c-0a8ced8e1644"
   },
   "outputs": [],
   "source": [
    "frontend.close()"
   ]
  },
  {
   "cell_type": "code",
   "execution_count": null,
   "metadata": {
    "id": "mZCfpfGq942W"
   },
   "outputs": [],
   "source": []
  }
 ],
 "metadata": {
  "colab": {
   "collapsed_sections": [],
   "provenance": []
  },
  "kernelspec": {
   "display_name": "Python 3 (ipykernel)",
   "language": "python",
   "name": "python3"
  },
  "language_info": {
   "codemirror_mode": {
    "name": "ipython",
    "version": 3
   },
   "file_extension": ".py",
   "mimetype": "text/x-python",
   "name": "python",
   "nbconvert_exporter": "python",
   "pygments_lexer": "ipython3",
   "version": "3.9.5"
  }
 },
 "nbformat": 4,
 "nbformat_minor": 1
}
