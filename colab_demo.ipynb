{
  "nbformat": 4,
  "nbformat_minor": 0,
  "metadata": {
    "colab": {
      "provenance": [],
      "collapsed_sections": []
    },
    "kernelspec": {
      "name": "python3",
      "display_name": "Python 3"
    },
    "language_info": {
      "name": "python"
    }
  },
  "cells": [
    {
      "cell_type": "code",
      "source": [
        "#Setting up workspace and installing dependencies\n",
        "import os\n",
        "!git clone https://github.com/ThePrecious/XRay_Prediction_and_Explainability\n",
        "%cd XRay_Prediction_and_Explainability\n",
        "!pip install .\n",
        "pth = os.getcwd()+'/src/gifsplanation'\n",
        "if not os.path.exists(pth):\n",
        "    os.system('git clone https://github.com/mlmed/gifsplanation '+pth)"
      ],
      "metadata": {
        "id": "k5j6PvInJdZn"
      },
      "execution_count": null,
      "outputs": []
    },
    {
      "cell_type": "code",
      "source": [
        "# Download weights of the ensemble model\n",
        "!pip install gdown\n",
        "#import gdown\n",
        "!gdown --id 1sRSlLsjPjyN88eUzhEQ7MhUQRCizg-m_ -O ./src/model/"
      ],
      "metadata": {
        "id": "gwVvaZFuoM_X"
      },
      "execution_count": null,
      "outputs": []
    },
    {
      "cell_type": "code",
      "source": [
        "from src.app_gradio import make_frontend\n",
        "\n",
        "frontend = make_frontend()\n",
        "frontend.launch(share=True)"
      ],
      "metadata": {
        "id": "ZxWMxHqNIrwW"
      },
      "execution_count": null,
      "outputs": []
    },
    {
      "cell_type": "code",
      "source": [
        "frontend.close()"
      ],
      "metadata": {
        "id": "5IpdSKawMmdq"
      },
      "execution_count": null,
      "outputs": []
    }
  ]
}