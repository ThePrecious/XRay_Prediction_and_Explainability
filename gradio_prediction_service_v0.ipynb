{
 "cells": [
  {
   "cell_type": "code",
   "execution_count": 1,
   "id": "7ab83fc1",
   "metadata": {},
   "outputs": [],
   "source": [
    "import gradio as gr\n",
    "import torchxrayvision as xrv\n",
    "import skimage, torch, torchvision\n",
    "import torch\n",
    "import requests"
   ]
  },
  {
   "cell_type": "code",
   "execution_count": 14,
   "id": "806e21e0",
   "metadata": {},
   "outputs": [
    {
     "name": "stdout",
     "output_type": "stream",
     "text": [
      "\n",
      "Thanks for being a Gradio user! If you have questions or feedback, please join our Discord server and chat with us: https://discord.gg/feTf9x3ZSB\n",
      "Running on local URL:  http://127.0.0.1:7884\n",
      "Running on public URL: https://23850.gradio.app\n",
      "\n",
      "This share link expires in 72 hours. For free permanent hosting, check out Spaces: https://huggingface.co/spaces\n"
     ]
    },
    {
     "data": {
      "text/html": [
       "<div><iframe src=\"https://23850.gradio.app\" width=\"900\" height=\"500\" allow=\"autoplay; camera; microphone;\" frameborder=\"0\" allowfullscreen></iframe></div>"
      ],
      "text/plain": [
       "<IPython.core.display.HTML object>"
      ]
     },
     "metadata": {},
     "output_type": "display_data"
    },
    {
     "data": {
      "text/plain": [
       "(<gradio.routes.App at 0x287acea30>,\n",
       " 'http://127.0.0.1:7884/',\n",
       " 'https://23850.gradio.app')"
      ]
     },
     "execution_count": 14,
     "metadata": {},
     "output_type": "execute_result"
    },
    {
     "name": "stderr",
     "output_type": "stream",
     "text": [
      "Traceback (most recent call last):\n",
      "  File \"/Library/Frameworks/Python.framework/Versions/3.9/lib/python3.9/site-packages/gradio/routes.py\", line 273, in run_predict\n",
      "    output = await app.blocks.process_api(\n",
      "  File \"/Library/Frameworks/Python.framework/Versions/3.9/lib/python3.9/site-packages/gradio/blocks.py\", line 753, in process_api\n",
      "    result = await self.call_function(fn_index, inputs, iterator)\n",
      "  File \"/Library/Frameworks/Python.framework/Versions/3.9/lib/python3.9/site-packages/gradio/blocks.py\", line 630, in call_function\n",
      "    prediction = await anyio.to_thread.run_sync(\n",
      "  File \"/Library/Frameworks/Python.framework/Versions/3.9/lib/python3.9/site-packages/anyio/to_thread.py\", line 31, in run_sync\n",
      "    return await get_asynclib().run_sync_in_worker_thread(\n",
      "  File \"/Library/Frameworks/Python.framework/Versions/3.9/lib/python3.9/site-packages/anyio/_backends/_asyncio.py\", line 937, in run_sync_in_worker_thread\n",
      "    return await future\n",
      "  File \"/Library/Frameworks/Python.framework/Versions/3.9/lib/python3.9/site-packages/anyio/_backends/_asyncio.py\", line 867, in run\n",
      "    result = context.run(func, *args)\n",
      "  File \"/var/folders/pm/67smq74x1_dc8237hfy0dkm80000gn/T/ipykernel_87158/2380388210.py\", line 11, in predict\n",
      "    model = xrv.models.DenseNet(weights=model_choice)\n",
      "  File \"/Library/Frameworks/Python.framework/Versions/3.9/lib/python3.9/site-packages/torchxrayvision/models.py\", line 156, in __init__\n",
      "    raise Exception(\"Weights value must be in {}\".format(possible_weights))\n",
      "Exception: Weights value must be in ['densenet121-res224-all', 'densenet121-res224-nih', 'densenet121-res224-pc', 'densenet121-res224-chex', 'densenet121-res224-rsna', 'densenet121-res224-mimic_nb', 'densenet121-res224-mimic_ch']\n"
     ]
    }
   ],
   "source": [
    "def predict(im,model_choice):\n",
    "    \n",
    "    # Prepare the image:\n",
    "    img = skimage.io.imread(im)\n",
    "    img = xrv.datasets.normalize(img, 255) # convert 8-bit image to [-1024, 1024] range\n",
    "    img = img.mean(2)[None, ...] # Make single color channel\n",
    "    transform = torchvision.transforms.Compose([xrv.datasets.XRayCenterCrop(),xrv.datasets.XRayResizer(224)])\n",
    "    img = transform(img)\n",
    "    img = torch.from_numpy(img)\n",
    "    \n",
    "    model = xrv.models.DenseNet(weights=model_choice)\n",
    "\n",
    "    outputs = model(img[None,...]) # or outputs = model.features(img[None,...]) \n",
    "    labels = dict(zip(model.pathologies,outputs[0].detach().numpy()))\n",
    "    return labels\n",
    "\n",
    "\n",
    "model_choices = [\"densenet121-res224-all\", \"densenet121-res224-rsna\",\"densenet121-res224-nih\",\"densenet121-res224-pc\",\"densenet121-res224-chex\",\"densenet121-res224-mimic_nb\",\"densenet121-res224-mimic_ch\"]\n",
    "\n",
    "demo = gr.Interface(fn=predict, \n",
    "             inputs=[gr.inputs.Image(type=\"filepath\"),gr.inputs.Dropdown(model_choices)],\n",
    "             outputs = gr.outputs.Textbox('labels'),\n",
    "             examples=[[\"16747_3_1.jpg\"]],\n",
    "             )\n",
    "             \n",
    "demo.launch(share=True, show_error=True)"
   ]
  },
  {
   "cell_type": "code",
   "execution_count": null,
   "id": "a1d20f01",
   "metadata": {},
   "outputs": [],
   "source": []
  }
 ],
 "metadata": {
  "kernelspec": {
   "display_name": "Python 3 (ipykernel)",
   "language": "python",
   "name": "python3"
  },
  "language_info": {
   "codemirror_mode": {
    "name": "ipython",
    "version": 3
   },
   "file_extension": ".py",
   "mimetype": "text/x-python",
   "name": "python",
   "nbconvert_exporter": "python",
   "pygments_lexer": "ipython3",
   "version": "3.9.1"
  }
 },
 "nbformat": 4,
 "nbformat_minor": 5
}
